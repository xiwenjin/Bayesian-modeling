{
 "cells": [
  {
   "cell_type": "code",
   "execution_count": 4,
   "metadata": {},
   "outputs": [],
   "source": [
    "# import the used libraries\n",
    "import numpy as np\n",
    "import matplotlib.pyplot as plt\n",
    "import statsmodels.api as sm\n",
    "import QuantLib as ql\n",
    "%matplotlib inline"
   ]
  },
  {
   "cell_type": "markdown",
   "metadata": {},
   "source": [
    "The loop for calculating CVAs takes at least 1 hr to run, once run, save the data in .csv file and read it for future usage."
   ]
  },
  {
   "cell_type": "markdown",
   "metadata": {},
   "source": [
    "    today = ql.Date(7,4,2015)\n",
    "    ql.Settings.instance().setEvaluationDate(today)\n",
    "\n",
    "    # Setup Marketdata\n",
    "    rate = ql.SimpleQuote(0.03)\n",
    "    rate_handle = ql.QuoteHandle(rate)\n",
    "    dc = ql.Actual365Fixed()\n",
    "    yts = ql.FlatForward(today, rate_handle, dc)\n",
    "    yts.enableExtrapolation()\n",
    "    hyts = ql.RelinkableYieldTermStructureHandle(yts)\n",
    "    t0_curve = ql.YieldTermStructureHandle(yts)\n",
    "    euribor6m = ql.Euribor6M(hyts)\n",
    "    cal = ql.TARGET()\n",
    "\n",
    "    # Setup a dummy portfolio with two Swaps\n",
    "    def makeSwap(start, maturity, nominal, fixedRate, index, typ=ql.VanillaSwap.Payer):\n",
    "        end = ql.TARGET().advance(start, maturity)\n",
    "        fixedLegTenor = ql.Period(\"1y\")\n",
    "        fixedLegBDC = ql.ModifiedFollowing\n",
    "        fixedLegDC = ql.Thirty360(ql.Thirty360.BondBasis)\n",
    "        spread = 0.0\n",
    "        fixedSchedule = ql.Schedule(start,end,  fixedLegTenor,   index.fixingCalendar(),   fixedLegBDC,  fixedLegBDC,   ql.DateGeneration.Backward,   False)\n",
    "        floatSchedule = ql.Schedule(start,  end,  index.tenor(),  index.fixingCalendar(),   index.businessDayConvention(),  index.businessDayConvention(),   ql.DateGeneration.Backward,  False)\n",
    "        swap = ql.VanillaSwap(typ,  nominal,  fixedSchedule,  fixedRate,  fixedLegDC,  floatSchedule,  index,  spread,  index.dayCounter())\n",
    "        return swap, [index.fixingDate(x) for x in floatSchedule][:-1]\n",
    "\n",
    "\n",
    "    def makeSwaption(swap, callDates, settlement):\n",
    "        if len(callDates) == 1:\n",
    "            exercise = ql.EuropeanExercise(callDates[0])\n",
    "        else:\n",
    "            exercise = ql.BermudanExercise(callDates)\n",
    "        return ql.Swaption(swap, exercise, settlement)\n",
    "\n",
    "\n",
    "    settlementDate = today + ql.Period(\"2D\")\n",
    "    \n",
    "result = []\n",
    "change = np.arange(0.01, 0.15, 0.0015)\n",
    "#change = np.array([ 0.01  ,  0.0115,  0.013])"
   ]
  },
  {
   "cell_type": "code",
   "execution_count": null,
   "metadata": {},
   "outputs": [],
   "source": []
  },
  {
   "cell_type": "markdown",
   "metadata": {},
   "source": [
    "for itr in change:\n",
    "    swaps = [makeSwap(settlementDate,  ql.Period(\"5Y\"), 1e6,  itr,  euribor6m) ]\n",
    "    calldates = [ql.Date(7,4,2016), ql.Date(6,4,2017), ql.Date(5,4, 2018), ql.Date(5,4,2019)]\n",
    "    #swaptions = [makeSwaption(swap,  calldates,  ql.Settlement.Physical)  for swap, fd in swaps]\n",
    "    calldates = [euribor6m.valueDate(d) for d in calldates]\n",
    "\n",
    "    engine = ql.DiscountingSwapEngine(hyts)\n",
    "    for swap, fixingDates in swaps:\n",
    "        swap.setPricingEngine(engine)\n",
    "    \n",
    "    # Assume the model is already calibrated either historical or market implied\n",
    "    volas = [ql.QuoteHandle(ql.SimpleQuote(0.0075)), ql.QuoteHandle(ql.SimpleQuote(0.0075))]\n",
    "    meanRev = [ql.QuoteHandle(ql.SimpleQuote(0.002))]\n",
    "    model = ql.Gsr(t0_curve, [today+100], volas, meanRev, 16.)\n",
    "    process = model.stateProcess()\n",
    "    mcDC = yts.dayCounter()\n",
    "\n",
    "    def timeFromReferenceFactory(daycounter, ref):\n",
    "        def impl(dat):\n",
    "            return daycounter.yearFraction(ref, dat)\n",
    "        return np.vectorize(impl)\n",
    "\n",
    "    timeFromReference = timeFromReferenceFactory(mcDC, today)\n",
    "\n",
    "    def getFixedLeg(swap, t):\n",
    "        fixed_leg = swap.leg(0)\n",
    "        n = len(fixed_leg)\n",
    "        fixed_times=[]\n",
    "        fixed_amounts=[]\n",
    "        npv = 0\n",
    "        for i in range(n):\n",
    "            cf = fixed_leg[i]\n",
    "            t_i = timeFromReference(cf.date())\n",
    "            if t_i > t:\n",
    "                fixed_times.append(t_i)\n",
    "                fixed_amounts.append(cf.amount())\n",
    "        return np.array(fixed_times), np.array(fixed_amounts)\n",
    "\n",
    "    def getFloatingLeg(swap, t):\n",
    "        float_leg = swap.leg(1)\n",
    "        n = len(float_leg)\n",
    "        float_times = []\n",
    "        float_dcf = []\n",
    "        accrual_start_time = []\n",
    "        accrual_end_time = []\n",
    "        nominals = []\n",
    "        for i in range(n):\n",
    "            # convert base classiborstart_idx Cashflow to\n",
    "            # FloatingRateCoupon\n",
    "            cf = ql.as_floating_rate_coupon(float_leg[i])\n",
    "            value_date = cf.referencePeriodStart()\n",
    "            t_fix_i = timeFromReference(value_date)\n",
    "            t_i = timeFromReference(cf.date()) \n",
    "            if t_fix_i >= t:\n",
    "                iborIndex = cf.index()\n",
    "                index_mat = cf.referencePeriodEnd()\n",
    "                # year fraction\n",
    "                float_dcf.append(cf.accrualPeriod())\n",
    "                # calculate the start and end time\n",
    "                accrual_start_time.append(t_fix_i)\n",
    "                accrual_end_time.append(timeFromReference(index_mat))\n",
    "                # payment time\n",
    "                float_times.append(t_i)\n",
    "                # nominals \n",
    "                nominals.append(cf.nominal())\n",
    "        return np.array(float_times), np.array(float_dcf), np.array(accrual_start_time), np.array(accrual_end_time), np.array(nominals)\n",
    "    \n",
    "    def getFixedFloatingPeriod(swap, t):\n",
    "        float_leg = swap.leg(1)\n",
    "        n = len(float_leg)\n",
    "        for i in range(n):\n",
    "            cf = ql.as_floating_rate_coupon(float_leg[i])\n",
    "            value_date = cf.referencePeriodStart()\n",
    "            t_fix_i = timeFromReference(value_date)\n",
    "            t_i = timeFromReference(cf.date()) \n",
    "            if t_fix_i < t and t < t_i:\n",
    "                iborIndex = cf.index()         \n",
    "                index_mat = cf.referencePeriodEnd()\n",
    "                # year fraction\n",
    "                float_dcf = cf.accrualPeriod()\n",
    "                # calculate the start and end time\n",
    "                accrual_start_time = t_fix_i\n",
    "                accrual_end_time = timeFromReference(index_mat)\n",
    "                # payment time\n",
    "                float_times = t_i\n",
    "                # nominals \n",
    "                nominals = cf.nominal()\n",
    "                return (float(float_times), float(float_dcf), float(accrual_start_time), float(accrual_end_time), float(nominals))\n",
    "        return (float(t), 1., float(t), float(t), 0.)\n",
    "\n",
    "    def swapPathNPV(swap, t, timegrid):\n",
    "        fixed_times, fixed_amounts = getFixedLeg(swap, t)\n",
    "        float_times, float_dcf, accrual_start_time, accrual_end_time, nominals = getFloatingLeg(swap, t)\n",
    "        df_times = np.concatenate([fixed_times,  accrual_start_time, accrual_end_time, float_times])\n",
    "        df_times = np.unique(df_times)\n",
    "        # Store indices of fix leg payment times in \n",
    "        # the df_times array\n",
    "        fix_idx = np.in1d(df_times, fixed_times, True)\n",
    "        fix_idx = fix_idx.nonzero()\n",
    "        # Indices of the floating leg payment times \n",
    "        # in the df_times array\n",
    "        float_idx = np.in1d(df_times, float_times, True)\n",
    "        float_idx = float_idx.nonzero()\n",
    "        # Indices of the accrual start and end time\n",
    "        # in the df_times array\n",
    "        accrual_start_idx = np.in1d(df_times, accrual_start_time, True)\n",
    "        accrual_start_idx = accrual_start_idx.nonzero()\n",
    "        accrual_end_idx = np.in1d(df_times, accrual_end_time, True)\n",
    "        accrual_end_idx = accrual_end_idx.nonzero()\n",
    "        paytime_ffp, float_dcf_ffp, accrual_start_time_ffp, accrual_end_time_ffp, nominals_ffp = getFixedFloatingPeriod(swap, t)\n",
    "        # Calculate NPV\n",
    "        def calc(path):\n",
    "            if len(df_times)==0:\n",
    "                return 0\n",
    "            i = np.where(timegrid == t)[0][0]\n",
    "            x_t = path[i]\n",
    "            discount = np.vectorize(lambda T: model.zerobond(T, t, x_t))\n",
    "            dfs = discount(df_times)\n",
    "            # Calculate fixed leg npv\n",
    "            fix_leg_npv = np.sum(fixed_amounts * dfs[fix_idx])\n",
    "            # Estimate the index fixings\n",
    "            index_fixings = (dfs[accrual_start_idx] / dfs[accrual_end_idx] - 1) \n",
    "            index_fixings /= float_dcf\n",
    "            # Calculate the floating leg npv\n",
    "            float_leg_npv = np.sum(nominals * index_fixings * float_dcf * dfs[float_idx])\n",
    "            # Calculate the already fixed accrual period of the floating leg\n",
    "            t_f = accrual_start_time_ffp\n",
    "            i = np.where(timegrid == t_f)[0][0]\n",
    "            x_f = path[i]\n",
    "            df_e = model.zerobond(accrual_end_time_ffp, t_f, x_f)\n",
    "            npv_accrualperiod = (1. / df_e - 1) * nominals_ffp * model.zerobond(paytime_ffp, t, x_t)\n",
    "            # Calculate swap npv\n",
    "            npv = float_leg_npv + npv_accrualperiod - fix_leg_npv\n",
    "            return npv\n",
    "        return calc\n",
    "\n",
    "    # Convert call date to time\n",
    "    callTimes = timeFromReference(calldates)\n",
    "\n",
    "    swap = swaps[0][0]\n",
    "    npv = swapPathNPV(swap, 0., np.array([0.]))(np.array([0.]))\n",
    "\n",
    "    def fixingdates(swap):\n",
    "        leg = swap.leg(1)\n",
    "        n = len(leg)\n",
    "        fixing_dates = []\n",
    "        for i in range(0, n):\n",
    "            cf = ql.as_floating_rate_coupon(leg[i])\n",
    "            value_date = cf.referencePeriodStart()\n",
    "            fixing_dates.append(value_date)\n",
    "        return fixing_dates\n",
    "\n",
    "    # Define evaluation grid\n",
    "    fixing_dates = fixingdates(swap)\n",
    "    fixing_times = timeFromReference(fixing_dates )\n",
    "\n",
    "    date_grid = [today + ql.Period(i, ql.Months) for i in range(0,66)] + calldates + fixing_dates\n",
    "\n",
    "    date_grid = np.unique(np.sort(date_grid))\n",
    "    time_grid = np.vectorize(lambda x: ql.Actual365Fixed().yearFraction(today, x))(date_grid)\n",
    "    time_grid = np.unique(time_grid)\n",
    "    dt = time_grid[1:] - time_grid[:-1]\n",
    "\n",
    "    seed = 1\n",
    "    urng = ql.MersenneTwisterUniformRng(seed)\n",
    "    usrg = ql.MersenneTwisterUniformRsg(len(time_grid)-1,urng)\n",
    "    generator = ql.InvCumulativeMersenneTwisterGaussianRsg(usrg)\n",
    "\n",
    "    M = 10000\n",
    "    m = len(time_grid)\n",
    "    x = np.zeros((M, m))\n",
    "    y = np.zeros((M, m))\n",
    "    numeraires = np.zeros((M, m))\n",
    "                      \n",
    "    for n in range(0, M):\n",
    "        numeraires[n, 0] = model.numeraire(0, 0)\n",
    "    \n",
    "    for n in range(0,M):\n",
    "        dWs = generator.nextSequence().value()\n",
    "        j = 1\n",
    "        for i in range(1, len(time_grid)):\n",
    "            t0 = time_grid[i-1]\n",
    "            t1 = time_grid[i]\n",
    "            e = process.expectation(t0, x[n,i-1],   dt[i-1])\n",
    "            std = process.stdDeviation(t0,   x[n,i-1],  dt[i-1])\n",
    "            x[n,i] = e + dWs[i-1] * std \n",
    "            e_0_0 = process.expectation(0,0,t1)\n",
    "            std_0_0 = process.stdDeviation(0,0,t1)\n",
    "            y[n,i] = (x[n,i] - e_0_0) / std_0_0\n",
    "            numeraires[n, i] = model.numeraire(t1, y[n,i])\n",
    "\n",
    "    swap_npvs = np.zeros((M, m))\n",
    "    cont_value = np.zeros(numeraires[:,i].shape)\n",
    "    for i in range(m-1, 0, -1):\n",
    "        t = time_grid[i]\n",
    "        pricer = swapPathNPV(swap, t, time_grid)\n",
    "        swap_npvs[:, i] = np.apply_along_axis(pricer, 1, y) / numeraires[:, 0]\n",
    "        exercise_values = np.zeros(numeraires[:,i].shape)\n",
    "        if t in callTimes:\n",
    "            exercise_values = swap_npvs[:, i].copy()\n",
    "            exercise_values[exercise_values < 0] = 0\n",
    "        states = y[:, i]\n",
    "        Y = np.column_stack((states, states**2, states**3, states**4))\n",
    "        Y = sm.add_constant(Y)\n",
    "        ols = sm.OLS(cont_value, Y)\n",
    "        ols_result = ols.fit()\n",
    "        cont_value_hat = np.sum(ols_result.params * Y, axis=1)\n",
    "    \n",
    "    swap_npvs[:, 0] = np.apply_along_axis(swapPathNPV(swap, 0, time_grid), 1, y) / numeraires[:, 0]\n",
    "    swap_npvs *= numeraires[0,0]\n",
    "\n",
    "    swap_npvs[swap_npvs<0] = 0\n",
    "    #swaption_npvs[swaption_npvs<0] = 0\n",
    "    #EE_swaption = np.mean(swaption_npvs, axis=0)\n",
    "    EE_swap = np.mean(swap_npvs, axis=0)\n",
    "\n",
    "    pd_dates =  [today + ql.Period(i, ql.Years) for i in range(11)]\n",
    "    hzrates = [0.02 * i for i in range(11)]\n",
    "    pd_curve = ql.HazardRateCurve(pd_dates,hzrates,ql.Actual365Fixed())\n",
    "    pd_curve.enableExtrapolation()\n",
    "    defaultProb_vec = np.vectorize(pd_curve.defaultProbability)\n",
    "    dPD = defaultProb_vec(time_grid[:-1], time_grid[1:])\n",
    "\n",
    "    recovery = 0.4\n",
    "    CVA = (1-recovery) * np.sum(EE_swap[1:] * dPD)\n",
    "    result.append(CVA)\n",
    "    print CVA"
   ]
  },
  {
   "cell_type": "code",
   "execution_count": 3,
   "metadata": {},
   "outputs": [],
   "source": [
    "import os\n",
    "os.environ['TF_C_API_GRAPH_CONSTRUCTION']='0'\n",
    "import tensorflow as tf\n",
    "import edward as ed\n",
    "import matplotlib.pyplot as plt\n",
    "import numpy as np\n",
    "from edward.models import Normal\n",
    "import seaborn as sns\n",
    "plt.style.use('ggplot')\n",
    "from edward.models import MultivariateNormalTriL\n",
    "from edward.util import rbf\n",
    "import pandas as pd"
   ]
  },
  {
   "cell_type": "markdown",
   "metadata": {},
   "source": [
    "Given the range of fixed rate is from 0.01 to 0.15, which is too small for kernel function to reflect their relationship, we can multiply a scaler to change expand the change in fixed rate, as well as the noise term applied to K_noise. with different parameters below, we can obtain different training result."
   ]
  },
  {
   "cell_type": "code",
   "execution_count": 4,
   "metadata": {},
   "outputs": [],
   "source": [
    "# read in .csv file\n",
    "df = pd.read_csv('/Users/jinxiwen/Desktop/RA/Cases/fix-CVA data.csv', header=None)"
   ]
  },
  {
   "cell_type": "code",
   "execution_count": null,
   "metadata": {},
   "outputs": [],
   "source": []
  },
  {
   "cell_type": "code",
   "execution_count": 5,
   "metadata": {
    "scrolled": true
   },
   "outputs": [],
   "source": [
    "x = np.array(df.iloc[:,0], dtype='float32')\n",
    "y = np.array(df.iloc[:,1], dtype='float32')"
   ]
  },
  {
   "cell_type": "code",
   "execution_count": 6,
   "metadata": {},
   "outputs": [],
   "source": [
    "sess = ed.get_session()\n",
    "\n",
    "# change below parameters to see different training results.\n",
    "training_number = 199\n",
    "testing_number = 10\n",
    "scaler = 100\n",
    "noise_term = 1e-1\n",
    "l = 1e-5\n",
    "sigma = 1.\n",
    "\n",
    "\n",
    "train_idx = np.linspace(0, len(x)-1, training_number, dtype = 'int')\n",
    "test_idx = np.linspace(0, len(x)-1, testing_number, dtype = 'int')\n",
    "\n",
    "x_train = np.array(x[train_idx], dtype='float32').reshape(training_number, 1) * scaler\n",
    "y_train = np.array(y[train_idx], dtype='float32').reshape(training_number, 1)\n",
    "x_test = np.array(x[test_idx], dtype='float32').reshape(len(x[test_idx]), 1) * scaler\n",
    "y_test = np.array(y[test_idx], dtype='float32').reshape(len(x[test_idx]), 1)"
   ]
  },
  {
   "cell_type": "code",
   "execution_count": null,
   "metadata": {},
   "outputs": [],
   "source": []
  },
  {
   "cell_type": "code",
   "execution_count": 7,
   "metadata": {},
   "outputs": [],
   "source": [
    "# mean\n",
    "Kernel = rbf(x_train, lengthscale = l, variance = sigma).eval()\n",
    "K_noise = Kernel + np.eye(training_number) * noise_term  \n",
    "k_s = rbf(x_test, x_train, lengthscale = l, variance = sigma).eval()                   \n",
    "L = np.linalg.cholesky(K_noise)\n",
    "alpha = np.linalg.solve(L.T, np.linalg.solve(L, y_train))\n",
    "predict_mean = np.dot(k_s, alpha)\n",
    "\n",
    "# cov\n",
    "v = np.linalg.solve(L, k_s.T)\n",
    "var = rbf(x_test).eval() - np.dot(v.T, v)"
   ]
  },
  {
   "cell_type": "code",
   "execution_count": 8,
   "metadata": {},
   "outputs": [
    {
     "data": {
      "text/plain": [
       "<matplotlib.legend.Legend at 0x1a2d1d4b10>"
      ]
     },
     "execution_count": 8,
     "metadata": {},
     "output_type": "execute_result"
    },
    {
     "data": {
      "image/png": "[encoded data removed]",
      "text/plain": [
       "<Figure size 720x432 with 1 Axes>"
      ]
     },
     "metadata": {},
     "output_type": "display_data"
    }
   ],
   "source": [
    "# plot with cov band\n",
    "up = predict_mean.reshape(len(x[test_idx]),) - 2 * (np.sqrt(np.diag(var)))   # 95% confident interval \n",
    "down = predict_mean.reshape(len(x[test_idx]),) + 2 * (np.sqrt(np.diag(var)))\n",
    "\n",
    "plt.figure(figsize = (10,6), facecolor='white', edgecolor='white')\n",
    "plt.plot(x_test, predict_mean, color = 'red', label = 'GP Prediction')\n",
    "plt.plot( x_test, y_test, color = 'black', label = 'Analytical Model')\n",
    "plt.scatter(x_test,y_test, s = 150, color = 'black', marker = \"+\")\n",
    "plt.fill_between(x[test_idx] * scaler , up, down, color = 'grey', alpha=0.3)\n",
    "plt.grid(True, color = 'grey', alpha = 0.3)\n",
    "#plt.ylim(-1000, 6100)\n",
    "plt.xlabel('Fixed rate')\n",
    "plt.ylabel('CVA')\n",
    "plt.legend(loc = 'best', prop={'size':10})"
   ]
  },
  {
   "cell_type": "code",
   "execution_count": null,
   "metadata": {},
   "outputs": [],
   "source": []
  },
  {
   "cell_type": "markdown",
   "metadata": {},
   "source": [
    "# Using sci-kit learn"
   ]
  },
  {
   "cell_type": "code",
   "execution_count": 9,
   "metadata": {},
   "outputs": [],
   "source": [
    "from sklearn import gaussian_process\n",
    "from sklearn.gaussian_process.kernels import Matern, WhiteKernel, ConstantKernel, RBF"
   ]
  },
  {
   "cell_type": "code",
   "execution_count": 346,
   "metadata": {},
   "outputs": [],
   "source": [
    "para= []\n",
    "error = []"
   ]
  },
  {
   "cell_type": "code",
   "execution_count": 389,
   "metadata": {},
   "outputs": [],
   "source": [
    "df = pd.read_csv('/Users/jinxiwen/Desktop/RA/Cases/fix-CVA data.csv', header=None)\n",
    "x = np.array(df.iloc[:,0], dtype='float32')\n",
    "y = np.array(df.iloc[:,1], dtype='float32')"
   ]
  },
  {
   "cell_type": "code",
   "execution_count": 390,
   "metadata": {},
   "outputs": [],
   "source": [
    "df_test = pd.read_csv('/Users/jinxiwen/Desktop/RA/Cases/CVA test.csv', header=None)\n",
    "x_test = np.array(df_test.iloc[:,0], dtype='float32')\n",
    "y_test = np.array(df_test.iloc[:,1], dtype='float32')"
   ]
  },
  {
   "cell_type": "code",
   "execution_count": null,
   "metadata": {},
   "outputs": [],
   "source": []
  },
  {
   "cell_type": "code",
   "execution_count": 391,
   "metadata": {},
   "outputs": [],
   "source": [
    "training_number = 180\n",
    "testing_number = 20\n",
    "scaler = 1\n",
    "\n",
    "train_idx = np.linspace(0, len(x)-1, training_number, dtype = 'int')\n",
    "test_idx = np.linspace(0, len(x_test)-1, testing_number, dtype = 'int')\n",
    "\n",
    "x_train = np.array(x[train_idx], dtype='float32').reshape(training_number, 1) * scaler\n",
    "y_train = np.array(y[train_idx], dtype='float32')#.reshape(training_number, 1)\n",
    "\n",
    "x_test = np.array(x_test[test_idx], dtype='float32').reshape(testing_number, 1) * scaler\n",
    "y_test = np.array(y_test[test_idx], dtype='float32')#.reshape(len(result), 1)"
   ]
  },
  {
   "cell_type": "code",
   "execution_count": null,
   "metadata": {},
   "outputs": [],
   "source": []
  },
  {
   "cell_type": "code",
   "execution_count": 392,
   "metadata": {},
   "outputs": [
    {
     "name": "stderr",
     "output_type": "stream",
     "text": [
      "/Users/jinxiwen/anaconda3/envs/py27/lib/python2.7/site-packages/sklearn/gaussian_process/gpr.py:457: UserWarning: fmin_l_bfgs_b terminated abnormally with the  state: {'warnflag': 2, 'task': 'ABNORMAL_TERMINATION_IN_LNSRCH', 'grad': array([-71092.72348738]), 'nit': 9, 'funcalls': 82}\n",
      "  \" state: %s\" % convergence_dict)\n"
     ]
    },
    {
     "data": {
      "text/plain": [
       "GaussianProcessRegressor(alpha=1e-10, copy_X_train=True,\n",
       "             kernel=RBF(length_scale=1), n_restarts_optimizer=30,\n",
       "             normalize_y=False, optimizer='fmin_l_bfgs_b',\n",
       "             random_state=None)"
      ]
     },
     "execution_count": 392,
     "metadata": {},
     "output_type": "execute_result"
    }
   ],
   "source": [
    "sk_kernel = RBF(length_scale=1.0, length_scale_bounds=(1e-05, 100000.0))\n",
    "gp = gaussian_process.GaussianProcessRegressor(kernel=sk_kernel, n_restarts_optimizer= 30)\n",
    "gp.fit(x_train, y_train)"
   ]
  },
  {
   "cell_type": "code",
   "execution_count": 393,
   "metadata": {},
   "outputs": [
    {
     "data": {
      "text/plain": [
       "[RBF(length_scale=0.0106),\n",
       " RBF(length_scale=0.00805),\n",
       " RBF(length_scale=0.0049),\n",
       " RBF(length_scale=0.00341),\n",
       " RBF(length_scale=0.0029),\n",
       " RBF(length_scale=0.00234)]"
      ]
     },
     "execution_count": 393,
     "metadata": {},
     "output_type": "execute_result"
    }
   ],
   "source": [
    "para.append(gp.kernel_)\n",
    "para\n",
    "#gp.kernel_"
   ]
  },
  {
   "cell_type": "code",
   "execution_count": 394,
   "metadata": {},
   "outputs": [
    {
     "name": "stderr",
     "output_type": "stream",
     "text": [
      "/Users/jinxiwen/anaconda3/envs/py27/lib/python2.7/site-packages/sklearn/gaussian_process/gpr.py:335: UserWarning: Predicted variances smaller than 0. Setting those variances to 0.\n",
      "  warnings.warn(\"Predicted variances smaller than 0. \"\n"
     ]
    },
    {
     "data": {
      "text/plain": [
       "[70307.284422458237,\n",
       " 14769.254728901031,\n",
       " 190.84741777915832,\n",
       " 0.009661911408627627,\n",
       " 7.2808433574614892e-06,\n",
       " 1.0215232896114951e-06]"
      ]
     },
     "execution_count": 394,
     "metadata": {},
     "output_type": "execute_result"
    }
   ],
   "source": [
    "y_pred, sigma = gp.predict(x_test, return_std=True)\n",
    "error.append(np.mean((y_pred - y_test)**2))\n",
    "error\n",
    "#np.mean((y_pred - y_test)**2)"
   ]
  },
  {
   "cell_type": "code",
   "execution_count": 395,
   "metadata": {},
   "outputs": [
    {
     "data": {
      "text/plain": [
       "<matplotlib.collections.PolyCollection at 0x1a35553f90>"
      ]
     },
     "execution_count": 395,
     "metadata": {},
     "output_type": "execute_result"
    },
    {
     "data": {
      "image/png": "[encoded data removed]",
      "text/plain": [
       "<Figure size 720x432 with 1 Axes>"
      ]
     },
     "metadata": {},
     "output_type": "display_data"
    }
   ],
   "source": [
    "plt.figure(figsize = (10, 6), facecolor='white', edgecolor='black')\n",
    "plt.plot(x_test, y_pred, color = 'red')\n",
    "plt.plot(x_test, y_test, color = 'black')\n",
    "plt.scatter(x_test, y_test, color = 'black', marker = '+', s = 45) \n",
    "plt.fill_between(x_test.flatten(), (y_pred-2*sigma), (y_pred+2*sigma), color = 'yellow', alpha=0.5) \n",
    "# The var band is too small to be seen relative to the CVA values"
   ]
  },
  {
   "cell_type": "code",
   "execution_count": null,
   "metadata": {},
   "outputs": [],
   "source": []
  },
  {
   "cell_type": "code",
   "execution_count": 396,
   "metadata": {},
   "outputs": [
    {
     "data": {
      "text/plain": [
       "<matplotlib.legend.Legend at 0x1a35517b90>"
      ]
     },
     "execution_count": 396,
     "metadata": {},
     "output_type": "execute_result"
    },
    {
     "data": {
      "image/png": "[encoded data removed]",
      "text/plain": [
       "<Figure size 720x432 with 1 Axes>"
      ]
     },
     "metadata": {},
     "output_type": "display_data"
    }
   ],
   "source": [
    "# Error plot\n",
    "up = y_pred - 2 * sigma   # 95% confident interval \n",
    "down = y_pred + 2 * sigma\n",
    "\n",
    "plt.figure(figsize = (10,6),facecolor='white', edgecolor='black')\n",
    "plt.plot(x_test/scaler, y_pred - y_test, color = 'red', label = 'GP Error')\n",
    "#plt.plot(x_train, y_train, color = 'black', label = 'Analytical Model')\n",
    "#plt.scatter(x_test, y_test, s = 150, color = 'black', marker = \"+\")\n",
    "plt.fill_between(x_test.flatten(), up-y_test, down - y_test, color = 'grey', alpha=0.3)\n",
    "plt.grid(True)\n",
    "#plt.xlim(90, 110)\n",
    "plt.xlabel('Fixed rate')\n",
    "plt.ylabel('Error in CVA')\n",
    "plt.legend(loc = 'best', prop={'size':10})"
   ]
  },
  {
   "cell_type": "code",
   "execution_count": 399,
   "metadata": {},
   "outputs": [
    {
     "data": {
      "text/plain": [
       "Text(0,0.5,'MSE')"
      ]
     },
     "execution_count": 399,
     "metadata": {},
     "output_type": "execute_result"
    },
    {
     "data": {
      "image/png": "[encoded data removed]",
      "text/plain": [
       "<Figure size 432x288 with 1 Axes>"
      ]
     },
     "metadata": {},
     "output_type": "display_data"
    }
   ],
   "source": [
    "# Convergence plot\n",
    "size = np.array([10, 20, 50, 100, 160, 180])\n",
    "plt.plot(size, error)\n",
    "plt.xlabel('Training Size')\n",
    "plt.ylabel('MSE')"
   ]
  },
  {
   "cell_type": "code",
   "execution_count": null,
   "metadata": {},
   "outputs": [],
   "source": []
  },
  {
   "cell_type": "code",
   "execution_count": null,
   "metadata": {},
   "outputs": [],
   "source": []
  }
 ],
 "metadata": {
  "kernelspec": {
   "display_name": "Python 2",
   "language": "python",
   "name": "python2"
  },
  "language_info": {
   "codemirror_mode": {
    "name": "ipython",
    "version": 2
   },
   "file_extension": ".py",
   "mimetype": "text/x-python",
   "name": "python",
   "nbconvert_exporter": "python",
   "pygments_lexer": "ipython2",
   "version": "2.7.15"
  }
 },
 "nbformat": 4,
 "nbformat_minor": 2
}
