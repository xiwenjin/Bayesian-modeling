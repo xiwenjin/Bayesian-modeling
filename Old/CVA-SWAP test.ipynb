{
 "cells": [
  {
   "cell_type": "code",
   "execution_count": 2,
   "metadata": {},
   "outputs": [],
   "source": [
    "from  QuantLib import *\n",
    "import numpy as np\n",
    "from math import *\n",
    "from pylab import *\n",
    "\n",
    "def A(t,T):\n",
    "    forward = crvToday.forwardRate(t, t,Continuous, NoFrequency).rate()\n",
    "    value = B(t,T)*forward - 0.25*sigma*B(t,T)*sigma*B(t,T)*B(0.0,2.0*t);\n",
    "    return exp(value)*crvToday.discount(T)/crvToday.discount(t);\n",
    "\n",
    "def B(t,T):\n",
    "    return (1.0-exp(-a*(T-t)))/a;\n",
    "\n",
    "def gamma(t):\n",
    "        forwardRate =crvToday.forwardRate(t, t, Continuous, NoFrequency).rate()\n",
    "        temp = sigma*(1.0 - exp(-a*t))/a\n",
    "        return (forwardRate + 0.5*temp*temp)\n",
    "\n",
    "def gamma_v(t):\n",
    "    res=np.zeros(len(t))\n",
    "    for i in xrange(len(t)):\n",
    "        res[i]=gamma(t[i])\n",
    "    return res"
   ]
  },
  {
   "cell_type": "code",
   "execution_count": 3,
   "metadata": {},
   "outputs": [],
   "source": [
    "Nsim=100\n",
    "a=0.1\n",
    "sigma=0.02\n",
    "\n",
    "todaysDate=Date(30,12,2013);\n",
    "Settings.instance().evaluationDate=todaysDate;\n",
    "crvToday=FlatForward(todaysDate,0.02,Actual360())\n",
    "\n",
    "r0=forwardRate =crvToday.forwardRate(0,0, Continuous, NoFrequency).rate()\n",
    "months=range(1,12*5,1)\n",
    "sPeriods=[str(month)+\"m\" for month in months]\n",
    "Dates=[todaysDate]+[todaysDate+Period(s) for s in sPeriods]\n",
    "T=[0]+[Actual360().yearFraction(todaysDate,Dates[i]) for i in xrange(1,len(Dates))]\n",
    "T=np.array(T)\n",
    "rmean=r0*np.exp(-a*T)+ gamma_v(T) -gamma(0)*np.exp(-a*T)\n",
    "\n",
    "np.random.seed(1)\n",
    "stdnorm = np.random.standard_normal(size=(Nsim,len(T)-1))\n",
    "\n",
    "rmat=np.zeros(shape=(Nsim,len(T)))\n",
    "rmat[:,0]=r0\n",
    "\n",
    "for iSim in xrange(Nsim):\n",
    "    for iT in xrange(1,len(T)):\n",
    "        mean=rmat[iSim,iT-1]*exp(-a*(T[iT]-T[iT-1]))+gamma(T[iT])-gamma(T[iT-1])*exp(-a*(T[iT]-T[iT-1]))\n",
    "        var=0.5*sigma*sigma/a*(1-exp(-2*a*(T[iT]-T[iT-1])))\n",
    "        rmat[iSim,iT]=mean+stdnorm[iSim,iT-1]*sqrt(var)\n",
    "\n",
    "startDate=Date(30,12,2013);\n",
    "\n",
    "crvMat= [ [ 0 for i in xrange(len(T)) ] for iSim in range(Nsim) ]\n",
    "npvMat= [ [ 0 for i in xrange(len(T)) ] for iSim in range(Nsim) ]"
   ]
  },
  {
   "cell_type": "code",
   "execution_count": 4,
   "metadata": {},
   "outputs": [],
   "source": [
    "for row in crvMat:\n",
    "    row[0]=crvToday\n",
    "\n",
    "for iT in xrange(1,len(T)):\n",
    "    for iSim in xrange(Nsim):\n",
    "        crvDate=Dates[iT];\n",
    "        crvDates=[crvDate]+[crvDate+Period(k,Years) for k in xrange(1,21)]\n",
    "        crvDiscounts=[1.0]+[A(T[iT],T[iT]+k)*exp(-B(T[iT],T[iT]+k)*rmat[iSim,iT]) for k in xrange(1,21)]\n",
    "        crvMat[iSim][iT]=DiscountCurve(crvDates,crvDiscounts,Actual360(),TARGET())\n",
    "\n",
    "#indexes definitions\n",
    "forecastTermStructure = RelinkableYieldTermStructureHandle()\n",
    "index = Euribor(Period(\"6m\"),forecastTermStructure)\n",
    "\n",
    "#swap 1 definition\n",
    "maturity = Date(30,12,2018);\n",
    "fixedSchedule = Schedule(startDate, maturity,Period(\"6m\"), TARGET(),ModifiedFollowing,ModifiedFollowing,DateGeneration.Forward, False)\n",
    "floatingSchedule = Schedule(startDate, maturity,Period(\"6m\"),TARGET() ,ModifiedFollowing,ModifiedFollowing,DateGeneration.Forward, False)\n",
    "swap1 = VanillaSwap(VanillaSwap.Receiver, 1000000,fixedSchedule,0.05 , Actual360(),floatingSchedule, index, 0,Actual360())  #0.01215\n"
   ]
  },
  {
   "cell_type": "code",
   "execution_count": 11,
   "metadata": {},
   "outputs": [
    {
     "data": {
      "text/plain": [
       "<QuantLib.QuantLib.Euribor; proxy of <Swig Object of type 'EuriborPtr *' at 0x107366bd0> >"
      ]
     },
     "execution_count": 11,
     "metadata": {},
     "output_type": "execute_result"
    }
   ],
   "source": [
    "index"
   ]
  },
  {
   "cell_type": "code",
   "execution_count": 5,
   "metadata": {},
   "outputs": [],
   "source": [
    "for iT in xrange(len(T)):\n",
    "    Settings.instance().evaluationDate=Dates[iT]\n",
    "    allDates= list(floatingSchedule)\n",
    "    fixingdates=[index.fixingDate(floatingSchedule[iDate]) for iDate in xrange(len(allDates)) if index.fixingDate(floatingSchedule[iDate])<=Dates[iT]]\n",
    "    if fixingdates:\n",
    "        for date in fixingdates[:-1]:\n",
    "            try:index.addFixing(date,0.0)\n",
    "            except:pass\n",
    "        try:index.addFixing(fixingdates[-1],rmean[iT])\n",
    "        except:pass\n",
    "    discountTermStructure = RelinkableYieldTermStructureHandle()\n",
    "    swapEngine = DiscountingSwapEngine(discountTermStructure)\n",
    "    swap1.setPricingEngine(swapEngine)\n",
    "\n",
    "    for iSim in xrange(Nsim):\n",
    "        crv=crvMat[iSim][iT]\n",
    "        discountTermStructure.linkTo(crv)\n",
    "        forecastTermStructure.linkTo(crv)\n",
    "        npvMat[iSim][iT]=swap1.NPV()\n",
    "\n",
    "npvMat=np.array(npvMat)\n",
    "npvMat[npvMat<0]=0\n",
    "EE=np.mean(npvMat,axis=0)\n",
    "\n",
    "S=0.05 #constant CDS spread\n",
    "R=0.4  #Recovery rate 40%\n",
    "\n",
    "sum=0"
   ]
  },
  {
   "cell_type": "code",
   "execution_count": 6,
   "metadata": {},
   "outputs": [
    {
     "name": "stdout",
     "output_type": "stream",
     "text": [
      "\n",
      "CVA= 17008.5902689\n",
      "\n",
      "EE\n",
      "[[ 143606.52236152  110892.25913033  123290.20415129 ...,   13967.58057333\n",
      "    13977.69516598   14005.16151835]\n",
      " [ 143606.52236152  126227.03001656  141763.93414938 ...,   13899.14723321\n",
      "    13944.45211361   14001.20809908]\n",
      " [ 143606.52236152  121295.88270064  113094.03325023 ...,   13806.22098036\n",
      "    13884.49671652   13951.8993805 ]\n",
      " ..., \n",
      " [ 143606.52236152  122839.24885826  100364.02025741 ...,   13945.0936529\n",
      "    13977.09778729   14012.67541012]\n",
      " [ 143606.52236152  132998.08151752  166252.5282214  ...,   14097.25299989\n",
      "    14095.04320873   14067.92423857]\n",
      " [ 143606.52236152  177737.59151528  194720.39115905 ...,   14071.24723422\n",
      "    14064.61259999   14040.44191233]]\n"
     ]
    },
    {
     "data": {
      "image/png": "[encoded data removed]",
      "text/plain": [
       "<Figure size 432x288 with 1 Axes>"
      ]
     },
     "metadata": {},
     "output_type": "display_data"
    }
   ],
   "source": [
    "#calculate CVA\n",
    "for i in xrange(len(T)-1):\n",
    "    sum=sum+0.5*(EE[i]*crvToday.discount(T[i])+EE[i+1]*crvToday.discount(T[i+1]))*(exp(-S*T[i]/(1.0-R))-exp(-S*T[i+1]/(1.0-R)))\n",
    "CVA=(1.0-R)*sum\n",
    "\n",
    "print \"\\nCVA=\",CVA\n",
    "\n",
    "plot(T,EE)\n",
    "print \"\\nEE\\n\",npvMat\n",
    "show()"
   ]
  },
  {
   "cell_type": "code",
   "execution_count": null,
   "metadata": {},
   "outputs": [],
   "source": []
  },
  {
   "cell_type": "code",
   "execution_count": null,
   "metadata": {},
   "outputs": [],
   "source": []
  },
  {
   "cell_type": "code",
   "execution_count": null,
   "metadata": {},
   "outputs": [],
   "source": []
  },
  {
   "cell_type": "code",
   "execution_count": null,
   "metadata": {},
   "outputs": [],
   "source": []
  },
  {
   "cell_type": "code",
   "execution_count": null,
   "metadata": {},
   "outputs": [],
   "source": []
  },
  {
   "cell_type": "code",
   "execution_count": null,
   "metadata": {},
   "outputs": [],
   "source": []
  },
  {
   "cell_type": "code",
   "execution_count": null,
   "metadata": {},
   "outputs": [],
   "source": []
  }
 ],
 "metadata": {
  "kernelspec": {
   "display_name": "Python 2",
   "language": "python",
   "name": "python2"
  },
  "language_info": {
   "codemirror_mode": {
    "name": "ipython",
    "version": 2
   },
   "file_extension": ".py",
   "mimetype": "text/x-python",
   "name": "python",
   "nbconvert_exporter": "python",
   "pygments_lexer": "ipython2",
   "version": "2.7.15"
  }
 },
 "nbformat": 4,
 "nbformat_minor": 2
}
