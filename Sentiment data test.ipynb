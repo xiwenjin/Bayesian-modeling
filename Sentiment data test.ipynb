{
 "cells": [
  {
   "cell_type": "code",
   "execution_count": 312,
   "metadata": {},
   "outputs": [],
   "source": [
    "import numpy as np\n",
    "import pandas as pd\n",
    "import seaborn as sb\n",
    "import matplotlib.pyplot as plt\n",
    "import sklearn\n",
    "%matplotlib inline\n",
    "from sklearn import preprocessing\n",
    "from sklearn.linear_model import LogisticRegression\n",
    "from sklearn.model_selection import train_test_split\n",
    "from sklearn import metrics \n",
    "from sklearn.metrics import classification_report\n",
    "import quandl as ql\n",
    "import datetime as dt"
   ]
  },
  {
   "cell_type": "code",
   "execution_count": 313,
   "metadata": {},
   "outputs": [],
   "source": [
    "def label(x):\n",
    "    y = np.zeros(len(x))\n",
    "    for i in range(len(x)):\n",
    "        if x[i] > 0:\n",
    "            y[i] = 1  # stock price rise\n",
    "        else:\n",
    "            y[i] = -1  # stock price drop\n",
    "    return y"
   ]
  },
  {
   "cell_type": "code",
   "execution_count": 383,
   "metadata": {
    "scrolled": true
   },
   "outputs": [],
   "source": [
    "# prepare y\n",
    "ql.ApiConfig.api_key = 'W43-tXma8s5zP8_MR5dR'\n",
    "apple = ql.get('WIKI/AAPL', start_date=\"2018-01-01\", end_date=\"2018-01-31\")\n",
    "y_data = np.array(apple['Adj. Close']) - np.array(apple['Adj. Open']) \n",
    "y = label(y_data)"
   ]
  },
  {
   "cell_type": "code",
   "execution_count": 441,
   "metadata": {},
   "outputs": [],
   "source": [
    "# prepare x\n",
    "df = pd.DataFrame(pd.read_csv('/Users/jinxiwen/Downloads/equity strength.csv'))   # for simplicity, I removed the intra day time value, left only date to use.\n",
    "x_data = df.loc[df['ENTITY_NAME'] == 'Apple Inc.']\n",
    "\n",
    "days = [2,3,4,5,8,9,10,11,12,16,17,18,19,22,23,24,25,26,29,30,31]     # I directly use trading days without matching by code\n",
    "x=[]\n",
    "for i in days:\n",
    "    x.append(np.array(x_data.loc[x_data['TIMESTAMP_UTC'] == '2018/1/' + str(i)]['STRENGTH']))\n",
    "\n",
    "x = np.array(x).flatten()"
   ]
  },
  {
   "cell_type": "code",
   "execution_count": 460,
   "metadata": {},
   "outputs": [
    {
     "data": {
      "image/png": "[encoded data removed]",
      "text/plain": [
       "<Figure size 432x288 with 1 Axes>"
      ]
     },
     "metadata": {},
     "output_type": "display_data"
    }
   ],
   "source": [
    "# grid of [x,y]\n",
    "plt.scatter(x,y)\n",
    "plt.axhline(0, color = 'black')\n",
    "plt.ylim(-1.5, 1.5)\n",
    "plt.xlabel('Strength of CSS')\n",
    "plt.ylabel('Stock Price Label')\n",
    "plt.grid()"
   ]
  },
  {
   "cell_type": "code",
   "execution_count": 451,
   "metadata": {},
   "outputs": [],
   "source": [
    "# logistic fitting\n",
    "x_train, x_test, y_train, y_test = train_test_split(x, y, test_size = .3, random_state=25)\n",
    "n_train = len(x_train)\n",
    "n_test = len(x_test)\n",
    "x_train = x_train.reshape(n_train,1)\n",
    "x_test = x_test.reshape(n_test,1)\n",
    "LogReg = LogisticRegression()\n",
    "LogReg.fit(x_train, y_train)\n",
    "y_pred = LogReg.predict(x_test)"
   ]
  },
  {
   "cell_type": "code",
   "execution_count": 463,
   "metadata": {},
   "outputs": [
    {
     "data": {
      "image/png": "[encoded data removed]",
      "text/plain": [
       "<Figure size 432x288 with 1 Axes>"
      ]
     },
     "metadata": {},
     "output_type": "display_data"
    }
   ],
   "source": [
    "# plot result\n",
    "plt.scatter(x_test, y_pred, marker = '+', s=100, color='red', label= 'prediction')\n",
    "plt.scatter(x_test, y_test, s=50, color = 'grey', alpha = 0.7, label = 'test')\n",
    "plt.legend(loc = 'best', prop={'size':10})\n",
    "plt.ylim(-1.5, 1.5)\n",
    "plt.xlabel('Strength of CSS')\n",
    "plt.ylabel('Stock Price Label')\n",
    "plt.grid()"
   ]
  },
  {
   "cell_type": "code",
   "execution_count": null,
   "metadata": {},
   "outputs": [],
   "source": []
  },
  {
   "cell_type": "code",
   "execution_count": null,
   "metadata": {},
   "outputs": [],
   "source": []
  },
  {
   "cell_type": "code",
   "execution_count": null,
   "metadata": {},
   "outputs": [],
   "source": []
  },
  {
   "cell_type": "code",
   "execution_count": null,
   "metadata": {},
   "outputs": [],
   "source": []
  }
 ],
 "metadata": {
  "kernelspec": {
   "display_name": "Python 2",
   "language": "python",
   "name": "python2"
  },
  "language_info": {
   "codemirror_mode": {
    "name": "ipython",
    "version": 2
   },
   "file_extension": ".py",
   "mimetype": "text/x-python",
   "name": "python",
   "nbconvert_exporter": "python",
   "pygments_lexer": "ipython2",
   "version": "2.7.15"
  }
 },
 "nbformat": 4,
 "nbformat_minor": 2
}
