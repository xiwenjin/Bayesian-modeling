{
 "cells": [
  {
   "cell_type": "code",
   "execution_count": 1,
   "metadata": {},
   "outputs": [],
   "source": [
    "# import the used libraries\n",
    "import numpy as np\n",
    "import matplotlib.pyplot as plt\n",
    "import statsmodels.api as sm\n",
    "import QuantLib as ql\n",
    "from sklearn import gaussian_process\n",
    "from sklearn.gaussian_process.kernels import Matern, WhiteKernel, ConstantKernel, RBF\n",
    "import pandas as pd\n",
    "%matplotlib inline"
   ]
  },
  {
   "cell_type": "code",
   "execution_count": 117,
   "metadata": {},
   "outputs": [],
   "source": [
    "# Setup a dummy portfolio with two Swaps\n",
    "def makeSwap(start, maturity, nominal, fixedRate, index, typ=ql.VanillaSwap.Payer):\n",
    "    end = ql.TARGET().advance(start, maturity)\n",
    "    fixedLegTenor = ql.Period(\"1y\")\n",
    "    fixedLegBDC = ql.ModifiedFollowing\n",
    "    fixedLegDC = ql.Thirty360(ql.Thirty360.BondBasis)\n",
    "    spread = 0.0\n",
    "    fixedSchedule = ql.Schedule(start,end,  fixedLegTenor,   index.fixingCalendar(),   fixedLegBDC,  fixedLegBDC,   ql.DateGeneration.Backward,   False)\n",
    "    floatSchedule = ql.Schedule(start,  end,  index.tenor(),  index.fixingCalendar(),   index.businessDayConvention(),  index.businessDayConvention(),   ql.DateGeneration.Backward,  False)\n",
    "    swap = ql.VanillaSwap(typ,  nominal,  fixedSchedule,  fixedRate,  fixedLegDC,  floatSchedule,  index,  spread,  index.dayCounter())\n",
    "    return swap, [index.fixingDate(x) for x in floatSchedule][:-1]\n",
    "\n",
    "\n",
    "def makeSwaption(swap, callDates, settlement):\n",
    "    if len(callDates) == 1:\n",
    "        exercise = ql.EuropeanExercise(callDates[0])\n",
    "    else:\n",
    "        exercise = ql.BermudanExercise(callDates)\n",
    "    return ql.Swaption(swap, exercise, settlement)\n"
   ]
  },
  {
   "cell_type": "code",
   "execution_count": 105,
   "metadata": {},
   "outputs": [],
   "source": [
    "def timeFromReferenceFactory(daycounter, ref):\n",
    "    def impl(dat):\n",
    "        return daycounter.yearFraction(ref, dat)\n",
    "    return np.vectorize(impl)\n",
    "\n",
    "def getFixedLeg(swap, t):\n",
    "    fixed_leg = swap.leg(0)\n",
    "    n = len(fixed_leg)\n",
    "    fixed_times=[]\n",
    "    fixed_amounts=[]\n",
    "    npv = 0\n",
    "    for i in range(n):\n",
    "        cf = fixed_leg[i]\n",
    "        t_i = timeFromReference(cf.date())\n",
    "        if t_i > t:\n",
    "            fixed_times.append(t_i)\n",
    "            fixed_amounts.append(cf.amount())\n",
    "    return np.array(fixed_times), np.array(fixed_amounts)\n",
    "\n",
    "def getFloatingLeg(swap, t):\n",
    "    float_leg = swap.leg(1)\n",
    "    n = len(float_leg)\n",
    "    float_times = []\n",
    "    float_dcf = []\n",
    "    accrual_start_time = []\n",
    "    accrual_end_time = []\n",
    "    nominals = []\n",
    "    for i in range(n):\n",
    "        # convert base classiborstart_idx Cashflow to\n",
    "        # FloatingRateCoupon\n",
    "        cf = ql.as_floating_rate_coupon(float_leg[i])\n",
    "        value_date = cf.referencePeriodStart()\n",
    "        t_fix_i = timeFromReference(value_date)\n",
    "        t_i = timeFromReference(cf.date()) \n",
    "        if t_fix_i >= t:\n",
    "            iborIndex = cf.index()\n",
    "            index_mat = cf.referencePeriodEnd()\n",
    "            # year fraction\n",
    "            float_dcf.append(cf.accrualPeriod())\n",
    "            # calculate the start and end time\n",
    "            accrual_start_time.append(t_fix_i)\n",
    "            accrual_end_time.append(timeFromReference(index_mat))\n",
    "            # payment time\n",
    "            float_times.append(t_i)\n",
    "            # nominals \n",
    "            nominals.append(cf.nominal())\n",
    "    return np.array(float_times), np.array(float_dcf), np.array(accrual_start_time), np.array(accrual_end_time), np.array(nominals)\n",
    "    \n",
    "def getFixedFloatingPeriod(swap, t):\n",
    "    float_leg = swap.leg(1)\n",
    "    n = len(float_leg)\n",
    "    for i in range(n):\n",
    "        cf = ql.as_floating_rate_coupon(float_leg[i])\n",
    "        value_date = cf.referencePeriodStart()\n",
    "        t_fix_i = timeFromReference(value_date)\n",
    "        t_i = timeFromReference(cf.date()) \n",
    "        if t_fix_i < t and t < t_i:\n",
    "            iborIndex = cf.index()         \n",
    "            index_mat = cf.referencePeriodEnd()\n",
    "            # year fraction\n",
    "            float_dcf = cf.accrualPeriod()\n",
    "            # calculate the start and end time\n",
    "            accrual_start_time = t_fix_i\n",
    "            accrual_end_time = timeFromReference(index_mat)\n",
    "            # payment time\n",
    "            float_times = t_i\n",
    "            # nominals \n",
    "            nominals = cf.nominal()\n",
    "            return (float(float_times), float(float_dcf), float(accrual_start_time), float(accrual_end_time), float(nominals))\n",
    "    return (float(t), 1., float(t), float(t), 0.)\n",
    "\n",
    "def swapPathNPV(swap, t, timegrid):\n",
    "    fixed_times, fixed_amounts = getFixedLeg(swap, t)\n",
    "    float_times, float_dcf, accrual_start_time, accrual_end_time, nominals = getFloatingLeg(swap, t)\n",
    "    df_times = np.concatenate([fixed_times,  accrual_start_time, accrual_end_time, float_times])\n",
    "    df_times = np.unique(df_times)\n",
    "    # Store indices of fix leg payment times in \n",
    "    # the df_times array\n",
    "    fix_idx = np.in1d(df_times, fixed_times, True)\n",
    "    fix_idx = fix_idx.nonzero()\n",
    "    # Indices of the floating leg payment times \n",
    "    # in the df_times array\n",
    "    float_idx = np.in1d(df_times, float_times, True)\n",
    "    float_idx = float_idx.nonzero()\n",
    "    # Indices of the accrual start and end time\n",
    "    # in the df_times array\n",
    "    accrual_start_idx = np.in1d(df_times, accrual_start_time, True)\n",
    "    accrual_start_idx = accrual_start_idx.nonzero()\n",
    "    accrual_end_idx = np.in1d(df_times, accrual_end_time, True)\n",
    "    accrual_end_idx = accrual_end_idx.nonzero()\n",
    "    paytime_ffp, float_dcf_ffp, accrual_start_time_ffp, accrual_end_time_ffp, nominals_ffp = getFixedFloatingPeriod(swap, t)\n",
    "    # Calculate NPV\n",
    "    def calc(path):\n",
    "        if len(df_times)==0:\n",
    "            return 0\n",
    "        i = np.where(timegrid == t)[0][0]\n",
    "        x_t = path[i]\n",
    "        discount = np.vectorize(lambda T: model.zerobond(T, t, x_t))\n",
    "        dfs = discount(df_times)\n",
    "        # Calculate fixed leg npv\n",
    "        fix_leg_npv = np.sum(fixed_amounts * dfs[fix_idx])\n",
    "        # Estimate the index fixings\n",
    "        index_fixings = (dfs[accrual_start_idx] / dfs[accrual_end_idx] - 1) \n",
    "        index_fixings /= float_dcf\n",
    "        # Calculate the floating leg npv\n",
    "        float_leg_npv = np.sum(nominals * index_fixings * float_dcf * dfs[float_idx])\n",
    "        # Calculate the already fixed accrual period of the floating leg\n",
    "        t_f = accrual_start_time_ffp\n",
    "        i = np.where(timegrid == t_f)[0][0]\n",
    "        x_f = path[i]\n",
    "        df_e = model.zerobond(accrual_end_time_ffp, t_f, x_f)\n",
    "        npv_accrualperiod = (1. / df_e - 1) * nominals_ffp * model.zerobond(paytime_ffp, t, x_t)\n",
    "        # Calculate swap npv\n",
    "        npv = float_leg_npv + npv_accrualperiod - fix_leg_npv\n",
    "        return npv\n",
    "    return calc\n",
    "    \n",
    "def fixingdates(swap):\n",
    "    leg = swap.leg(1)\n",
    "    n = len(leg)\n",
    "    fixing_dates = []\n",
    "    for i in range(0, n):\n",
    "        cf = ql.as_floating_rate_coupon(leg[i])\n",
    "        value_date = cf.referencePeriodStart()\n",
    "        fixing_dates.append(value_date)\n",
    "    return fixing_dates "
   ]
  },
  {
   "cell_type": "code",
   "execution_count": 106,
   "metadata": {},
   "outputs": [],
   "source": [
    "today = ql.Date(7,4,2015)\n",
    "ql.Settings.instance().setEvaluationDate(today)\n",
    "fixedRate = 0.025\n",
    "settlementDate = today + ql.Period(\"2D\")"
   ]
  },
  {
   "cell_type": "code",
   "execution_count": 107,
   "metadata": {},
   "outputs": [],
   "source": [
    "df = pd.read_csv('/Users/jinxiwen/Desktop/RA/Cases/CVA Libor data.csv', header=None) \n",
    "Libor = np.array(df.iloc[:,1])"
   ]
  },
  {
   "cell_type": "code",
   "execution_count": 113,
   "metadata": {},
   "outputs": [],
   "source": [
    "test = np.array([0.0273956,  0.0273844,  0.0274844])"
   ]
  },
  {
   "cell_type": "code",
   "execution_count": 114,
   "metadata": {},
   "outputs": [],
   "source": [
    "result_swaption = []\n",
    "result_swap = []"
   ]
  },
  {
   "cell_type": "code",
   "execution_count": 115,
   "metadata": {},
   "outputs": [
    {
     "name": "stdout",
     "output_type": "stream",
     "text": [
      "1921.14695229 1801.73539482\n",
      "1919.03643553 1799.38027175\n",
      "1937.54749127 1820.47388459\n"
     ]
    }
   ],
   "source": [
    "for itr in test:\n",
    "    rate = ql.SimpleQuote(itr)   # Libor + 1% floating rate\n",
    "    rate_handle = ql.QuoteHandle(rate)\n",
    "    dc = ql.Actual365Fixed()\n",
    "    yts = ql.FlatForward(today, rate_handle, dc)\n",
    "    yts.enableExtrapolation()\n",
    "    hyts = ql.RelinkableYieldTermStructureHandle(yts)\n",
    "    t0_curve = ql.YieldTermStructureHandle(yts)\n",
    "    libor1yr = ql.USDLibor(ql.Period(12, ql.Months), hyts)  \n",
    "    cal = ql.TARGET()\n",
    "    \n",
    "    swaps = [makeSwap(settlementDate,  ql.Period(\"5Y\"), 1e6,  fixedRate,  libor1yr) ]\n",
    "    calldates = [ql.Date(7,4,2016), ql.Date(6,4,2017), ql.Date(5,4, 2018), ql.Date(5,4,2019)]\n",
    "    swaptions = [makeSwaption(swap,  calldates,  ql.Settlement.Physical)  for swap, fd in swaps]\n",
    "    calldates = [euribor6m.valueDate(d) for d in calldates]\n",
    "\n",
    "    engine = ql.DiscountingSwapEngine(hyts)\n",
    "    for swap, fixingDates in swaps:\n",
    "        swap.setPricingEngine(engine)\n",
    "    \n",
    "    # Assume the model is already calibrated either historical or market implied\n",
    "    volas = [ql.QuoteHandle(ql.SimpleQuote(0.0075)), ql.QuoteHandle(ql.SimpleQuote(0.0075))]\n",
    "    meanRev = [ql.QuoteHandle(ql.SimpleQuote(0.002))]\n",
    "    model = ql.Gsr(t0_curve, [today+100], volas, meanRev, 16.)\n",
    "    process = model.stateProcess()\n",
    "    swaptionEngine = ql.Gaussian1dSwaptionEngine(model)\n",
    "    for swaption in swaptions:\n",
    "        swaption.setPricingEngine(swaptionEngine)\n",
    "    \n",
    "    mcDC = yts.dayCounter()\n",
    "    timeFromReference = timeFromReferenceFactory(mcDC, today)\n",
    "    \n",
    "    callTimes = timeFromReference(calldates)\n",
    "    swap = swaps[0][0]\n",
    "    swaption = swaptions[0]\n",
    "    npv = swapPathNPV(swap, 0., np.array([0.]))(np.array([0.]))\n",
    "    \n",
    "    fixing_dates = fixingdates(swap)\n",
    "    fixing_times = timeFromReference(fixing_dates )\n",
    "\n",
    "    date_grid = [today + ql.Period(i, ql.Months) for i in range(0,66)] + calldates + fixing_dates\n",
    "\n",
    "    date_grid = np.unique(np.sort(date_grid))\n",
    "    time_grid = np.vectorize(lambda x: ql.Actual365Fixed().yearFraction(today, x))(date_grid)\n",
    "    time_grid = np.unique(time_grid)\n",
    "    dt = time_grid[1:] - time_grid[:-1]\n",
    "    \n",
    "    seed = 1\n",
    "    urng = ql.MersenneTwisterUniformRng(seed)\n",
    "    usrg = ql.MersenneTwisterUniformRsg(len(time_grid)-1,urng)\n",
    "    generator = ql.InvCumulativeMersenneTwisterGaussianRsg(usrg)\n",
    "\n",
    "    M = 10000\n",
    "    m = len(time_grid)\n",
    "    x = np.zeros((M, m))\n",
    "    y = np.zeros((M, m))\n",
    "    numeraires = np.zeros((M, m))\n",
    "                      \n",
    "    for n in range(0, M):\n",
    "        numeraires[n, 0] = model.numeraire(0, 0)\n",
    "    \n",
    "    for n in range(0,M):\n",
    "        dWs = generator.nextSequence().value()\n",
    "        j = 1\n",
    "        for i in range(1, len(time_grid)):\n",
    "            t0 = time_grid[i-1]\n",
    "            t1 = time_grid[i]\n",
    "            e = process.expectation(t0, x[n,i-1],   dt[i-1])\n",
    "            std = process.stdDeviation(t0,   x[n,i-1],  dt[i-1])\n",
    "            x[n,i] = e + dWs[i-1] * std \n",
    "            e_0_0 = process.expectation(0,0,t1)\n",
    "            std_0_0 = process.stdDeviation(0,0,t1)\n",
    "            y[n,i] = (x[n,i] - e_0_0) / std_0_0\n",
    "            numeraires[n, i] = model.numeraire(t1, y[n,i])\n",
    "        \n",
    "    swap_npvs = np.zeros((M, m))\n",
    "    swaption_npvs = np.zeros((M, m))\n",
    "    cont_value = np.zeros(numeraires[:,i].shape)\n",
    "    for i in range(m-1, 0, -1):\n",
    "        t = time_grid[i]\n",
    "        pricer = swapPathNPV(swap, t, time_grid)\n",
    "        swap_npvs[:, i] = np.apply_along_axis(pricer, 1, y) / numeraires[:, 0]\n",
    "        exercise_values = np.zeros(numeraires[:,i].shape)\n",
    "        if t in callTimes:\n",
    "            exercise_values = swap_npvs[:, i].copy()\n",
    "            exercise_values[exercise_values < 0] = 0\n",
    "        states = y[:, i]\n",
    "        Y = np.column_stack((states, states**2, states**3, states**4))\n",
    "        Y = sm.add_constant(Y)\n",
    "        ols = sm.OLS(cont_value, Y)\n",
    "        ols_result = ols.fit()\n",
    "        cont_value_hat = np.sum(ols_result.params * Y, axis=1)\n",
    "        swaption_npvs[:,i] = np.maximum(cont_value_hat, exercise_values)\n",
    "        if t in callTimes:\n",
    "            cont_value = np.maximum(cont_value_hat, exercise_values)\n",
    "            swaption_npvs[cont_value_hat < exercise_values, i:] = swap_npvs[cont_value_hat < exercise_values, i:].copy()\n",
    "    swaption_npvs[:,0] = np.mean(cont_value)\n",
    "    swap_npvs[:, 0] = np.apply_along_axis(swapPathNPV(swap, 0, time_grid), 1, y) / numeraires[:, 0]\n",
    "    \n",
    "    swaption_npvs *= numeraires[0,0]\n",
    "    swap_npvs *= numeraires[0,0]\n",
    "    \n",
    "    swap_npvs[swap_npvs<0] = 0\n",
    "    swaption_npvs[swaption_npvs<0] = 0\n",
    "    EE_swaption = np.mean(swaption_npvs, axis=0)\n",
    "    EE_swap = np.mean(swap_npvs, axis=0)\n",
    "    \n",
    "    pd_dates =  [today + ql.Period(i, ql.Years) for i in range(11)]\n",
    "    hzrates = [0.02 * i for i in range(11)]\n",
    "    pd_curve = ql.HazardRateCurve(pd_dates,hzrates,ql.Actual365Fixed())\n",
    "    pd_curve.enableExtrapolation()\n",
    "    \n",
    "    defaultProb_vec = np.vectorize(pd_curve.defaultProbability)\n",
    "    dPD = defaultProb_vec(time_grid[:-1], time_grid[1:])\n",
    "    recovery = 0.4\n",
    "    CVA_swaption = (1-recovery) * np.sum(EE_swaption[1:] * dPD)\n",
    "    CVA_swap = (1-recovery) * np.sum(EE_swap[1:] * dPD)\n",
    "    result_swaption.append(CVA_swaption)\n",
    "    result_swap.append(CVA_swap)\n",
    "    print CVA_swaption, CVA_swap"
   ]
  },
  {
   "cell_type": "markdown",
   "metadata": {},
   "source": [
    "# Fit GP"
   ]
  },
  {
   "cell_type": "code",
   "execution_count": 18,
   "metadata": {},
   "outputs": [],
   "source": [
    "para= []\n",
    "error = []"
   ]
  },
  {
   "cell_type": "code",
   "execution_count": 19,
   "metadata": {},
   "outputs": [],
   "source": [
    "df = pd.read_csv('/Users/jinxiwen/Desktop/RA/Cases/CVA swaption data.csv', header=None)\n",
    "date = np.array(df.iloc[:,0])\n",
    "Libor = np.array(df.iloc[:,1])\n",
    "CVA = np.array(df.iloc[:,2])"
   ]
  },
  {
   "cell_type": "code",
   "execution_count": 53,
   "metadata": {},
   "outputs": [],
   "source": [
    "training_number = 5\n",
    "testing_number = 100\n",
    "\n",
    "train_idx = np.linspace(0, len(Libor)-1, training_number, dtype = 'int')\n",
    "test_idx = np.linspace(0, len(Libor)-1, testing_number, dtype = 'int')\n",
    "\n",
    "x_train = np.array(Libor[train_idx], dtype='float32').reshape(training_number, 1) \n",
    "y_train = np.array(CVA[train_idx], dtype='float32')#.reshape(training_number, 1)\n",
    "\n",
    "x_test = np.array(Libor[test_idx], dtype='float32').reshape(testing_number, 1) \n",
    "x_test_date = np.array(date[test_idx]).reshape(testing_number, 1)\n",
    "y_test = np.array(CVA[test_idx], dtype='float32')#.reshape(len(result), 1)"
   ]
  },
  {
   "cell_type": "code",
   "execution_count": 54,
   "metadata": {},
   "outputs": [
    {
     "name": "stderr",
     "output_type": "stream",
     "text": [
      "/Users/jinxiwen/anaconda3/envs/py27/lib/python2.7/site-packages/sklearn/gaussian_process/gpr.py:457: UserWarning: fmin_l_bfgs_b terminated abnormally with the  state: {'warnflag': 2, 'task': 'ABNORMAL_TERMINATION_IN_LNSRCH', 'grad': array([  3.08506404e-01,  -7.13948441e+03]), 'nit': 10, 'funcalls': 71}\n",
      "  \" state: %s\" % convergence_dict)\n",
      "/Users/jinxiwen/anaconda3/envs/py27/lib/python2.7/site-packages/sklearn/gaussian_process/gpr.py:457: UserWarning: fmin_l_bfgs_b terminated abnormally with the  state: {'warnflag': 2, 'task': 'ABNORMAL_TERMINATION_IN_LNSRCH', 'grad': array([   -8.76499016, -7139.29307723]), 'nit': 10, 'funcalls': 129}\n",
      "  \" state: %s\" % convergence_dict)\n",
      "/Users/jinxiwen/anaconda3/envs/py27/lib/python2.7/site-packages/sklearn/gaussian_process/gpr.py:457: UserWarning: fmin_l_bfgs_b terminated abnormally with the  state: {'warnflag': 2, 'task': 'ABNORMAL_TERMINATION_IN_LNSRCH', 'grad': array([  3.08506404e-01,  -7.13948441e+03]), 'nit': 8, 'funcalls': 62}\n",
      "  \" state: %s\" % convergence_dict)\n",
      "/Users/jinxiwen/anaconda3/envs/py27/lib/python2.7/site-packages/sklearn/gaussian_process/gpr.py:457: UserWarning: fmin_l_bfgs_b terminated abnormally with the  state: {'warnflag': 2, 'task': 'ABNORMAL_TERMINATION_IN_LNSRCH', 'grad': array([   -8.45165359, -7139.29473444]), 'nit': 15, 'funcalls': 62}\n",
      "  \" state: %s\" % convergence_dict)\n",
      "/Users/jinxiwen/anaconda3/envs/py27/lib/python2.7/site-packages/sklearn/gaussian_process/gpr.py:457: UserWarning: fmin_l_bfgs_b terminated abnormally with the  state: {'warnflag': 2, 'task': 'ABNORMAL_TERMINATION_IN_LNSRCH', 'grad': array([  -15.97641011, -7139.06374873]), 'nit': 18, 'funcalls': 141}\n",
      "  \" state: %s\" % convergence_dict)\n"
     ]
    },
    {
     "data": {
      "text/plain": [
       "RBF(length_scale=0.00309) + WhiteKernel(noise_level=0.0001)"
      ]
     },
     "execution_count": 54,
     "metadata": {},
     "output_type": "execute_result"
    }
   ],
   "source": [
    "sk_kernel = RBF(length_scale=1.0, length_scale_bounds=(1e-4, 1.0)) + WhiteKernel(noise_level=1.0, noise_level_bounds=(1e-5, 1e-4))\n",
    "gp = gaussian_process.GaussianProcessRegressor(kernel=sk_kernel, n_restarts_optimizer= 20)\n",
    "gp.fit(x_train, y_train)\n",
    "gp.kernel_"
   ]
  },
  {
   "cell_type": "code",
   "execution_count": 55,
   "metadata": {},
   "outputs": [],
   "source": [
    "y_pred, sigma = gp.predict(x_test, return_std=True)"
   ]
  },
  {
   "cell_type": "code",
   "execution_count": 56,
   "metadata": {},
   "outputs": [
    {
     "data": {
      "image/png": "[encoded data removed]",
      "text/plain": [
       "<Figure size 720x432 with 1 Axes>"
      ]
     },
     "metadata": {},
     "output_type": "display_data"
    }
   ],
   "source": [
    "plt.figure(figsize = (10, 6), facecolor='white', edgecolor='black')\n",
    "plt.plot(y_pred, color = 'red')\n",
    "plt.plot(y_test, color = 'black')\n",
    "plt.grid()\n",
    "#plt.scatter(x_test, y_test, color = 'black', marker = '+', s = 45) \n",
    "#plt.fill_between(date.flatten(), (y_pred-2*sigma), (y_pred+2*sigma), color = 'yellow', alpha=0.5) "
   ]
  },
  {
   "cell_type": "code",
   "execution_count": 51,
   "metadata": {},
   "outputs": [
    {
     "data": {
      "text/plain": [
       "0.29010649346942663"
      ]
     },
     "execution_count": 51,
     "metadata": {},
     "output_type": "execute_result"
    }
   ],
   "source": [
    "np.mean((y_pred - y_test)**2)"
   ]
  },
  {
   "cell_type": "code",
   "execution_count": 52,
   "metadata": {},
   "outputs": [
    {
     "data": {
      "text/plain": [
       "<matplotlib.legend.Legend at 0x1c211bde90>"
      ]
     },
     "execution_count": 52,
     "metadata": {},
     "output_type": "execute_result"
    },
    {
     "data": {
      "image/png": "[encoded data removed]",
      "text/plain": [
       "<Figure size 720x432 with 1 Axes>"
      ]
     },
     "metadata": {},
     "output_type": "display_data"
    }
   ],
   "source": [
    "# Error plot\n",
    "up = y_pred - 2 * sigma   # 95% confident interval \n",
    "down = y_pred + 2 * sigma\n",
    "\n",
    "plt.figure(figsize = (10,6),facecolor='white', edgecolor='black')\n",
    "plt.plot(y_pred - y_test, color = 'red', label = 'GP Error')\n",
    "#plt.fill_between(x_test.flatten(), up-y_test, down - y_test, color = 'grey', alpha=0.5)\n",
    "plt.grid(True)\n",
    "plt.xlabel('Fixed rate')\n",
    "plt.ylabel('Error in CVA')\n",
    "plt.legend(loc = 'best', prop={'size':10})"
   ]
  },
  {
   "cell_type": "code",
   "execution_count": null,
   "metadata": {},
   "outputs": [],
   "source": []
  },
  {
   "cell_type": "code",
   "execution_count": null,
   "metadata": {
    "scrolled": true
   },
   "outputs": [],
   "source": []
  },
  {
   "cell_type": "code",
   "execution_count": null,
   "metadata": {
    "scrolled": true
   },
   "outputs": [],
   "source": []
  },
  {
   "cell_type": "code",
   "execution_count": null,
   "metadata": {},
   "outputs": [],
   "source": []
  }
 ],
 "metadata": {
  "kernelspec": {
   "display_name": "Python 2",
   "language": "python",
   "name": "python2"
  },
  "language_info": {
   "codemirror_mode": {
    "name": "ipython",
    "version": 2
   },
   "file_extension": ".py",
   "mimetype": "text/x-python",
   "name": "python",
   "nbconvert_exporter": "python",
   "pygments_lexer": "ipython2",
   "version": "2.7.15"
  }
 },
 "nbformat": 4,
 "nbformat_minor": 2
}
