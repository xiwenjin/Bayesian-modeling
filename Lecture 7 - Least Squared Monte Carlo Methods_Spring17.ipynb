{
 "cells": [
  {
   "cell_type": "markdown",
   "metadata": {},
   "source": [
    "### Introduction\n",
    "\n",
    "Longstaff and Schwartz (2001) provide a numerically efficient method to solve this problem by what they call Least-Squares Monte Carlo (LSM). Their approach involves simulating paths, approximating continuation values for American options in backwards steps by an ordinary least-squares regression and applying the rule for early exercise. The value of the option is the average of the discounted payoffs for each path.\n",
    "\n",
    "The LSM leads to a lower bound for the option’s value since the exercise decision is in any case sub-optimal.\n",
    "\n",
    "Haugh and Kogan (2004), among others, propose a dual formulation of the valuation problem for an American option which finally leads to a MCS estimator that represents an upper bound to the option’s value. In some situations, it is very helpful to have an upper bound in addition to a lower bound since the LSM does not allow to assess “how much too low the value estimate is.”\n",
    "\n",
    "### Continuous formulation\n",
    "The valuation of contingent claims with American exercise is more involved. In its primal form, this problem can be formulated as an optimal stopping problem\n",
    "\n",
    "$$V_0 = sup_{\\tau\\in[0,T]}\\mathbb{E}_0[B_0(\\tau)h_{\\tau}(S_{\\tau})]$$\n",
    "\n",
    "$\\tau$ is an $\\mathcal{F}$ adapted stopping time, $T$ the date of maturity, $B_0(\\tau)$ the discount factor appropriate for stopping time $\\tau$, $h_{\\tau}$ a non-negative, $\\mathcal{F}_t$-measurable payoff function and $S_{\\tau}$ is the underlying process stopped at $t = \\tau$. The expectation is again taken under the risk-neutral measure Q. \n",
    "\n",
    "To value American options by MCS, the optimal stopping problem also has to be discretized:\n",
    "\n",
    "### Discrete formulation\n",
    "\n",
    "$$V_0 = \\sup_{0,\\Delta t, \\dots, T}\\mathbb{E}_0[B_0(\\tau)h_{\\tau}(S_{\\tau})]$$\n",
    "\n",
    "The continuation value $C_t$ at date t of the option, i.e. the value of not exercising the option at this date, is given under risk-neutrality as\n",
    "\n",
    "$$C_t(s)=\\mathbb{E}_t[e^{-r\\Delta t}V_{t+\\Delta t}(S_{t+\\Delta t})|S_t=s]$$\n",
    "\n",
    "using the Markov property of $S_t$. The value of the option at date $t$ is then\n",
    "\n",
    "$$V_t(s)=\\max[h_t(s), C_t(s)]$$\n",
    "\n",
    "i.e. the maximum of the payoff $h_t(s)$ of immediate exercise and the expected payoff $C_t(s)$ of not exercising.\n",
    "\n",
    "\n",
    "The decision to exercise an American option or not is dependent on the continuation value. Consider a simulation with M + 1 points in time and I paths. Given a simulated underlying price $S_{t,i}$, $t \\in\\{0,\\dots, T\\}$, $i \\in \\{1,\\dots, I\\}$, what is the continuation value $C_{t,i}( S_{t,i}$), i.e. the expected payoff of not exercising the option? Of course, by simulation you know the simulated continuation value $Y_{t,i} ≡ e^{-r\\Delta t}V_{t+\\Delta t, i}$. \n",
    "\n",
    "However, using these quantities directly would translate into perfect foresight— something not seen in financial markets and therefore not acceptable for a valuation algorithm. In other words, using these quantities would lead to a better-than-optimal exercise policy and therewith to a consistently high biased estimator. On the other hand, estimating the continuation value through a nested MCS, for example, would lead to generally unacceptable computational times.\n",
    "\n",
    "The major insight of Longstaff-Schwartz is to estimate the continuation values $C_{t,i}$ by ordinary least-squares regression— hence the name Least-Squares Monte Carlo for their algorithm. They propose to regress the I continuation values $Y_{t,i}$ against the I simulated underlying prices $S_{t,i}$. Given D basis functions $\\{B_d(x)\\}$ with for the regression, the continuation value $C_{t,i} is according to their approach approximated by\n",
    "\n",
    "$$\\hat{C}_{t,i}=\\sum_{d=1}^D \\alpha^*_{d,t}\\cdot B_d(S_{t,i})$$.\n",
    "\n",
    "\n",
    "The optimal regression parameters $\\alpha^*_{d,t}$ are the result of the minimization\n",
    "\n",
    "$$\\min_{\\alpha_{1,t},\\dots,\\alpha_{D,t}}\\frac{1}{I}\\sum_{i=1}^I\\left(C_{t,i}-\\sum_{d=1}^D \\alpha_{d,t}\\cdot B_d(S_{t,i})\\right)^2$$\n",
    "\n",
    "In some circumstances, the quality of the regression can be improved upon when restricting the paths involved in the regression to those where the option is in-the-money. "
   ]
  },
  {
   "cell_type": "markdown",
   "metadata": {},
   "source": [
    "### Simple Numerical Example\n",
    "\n",
    "Let's review a numerical  example  for  pricing  American  puts. \n",
    "Suppose $S_0=1, K = 1.1, T = 3yrs, r= 0.06, q=0$, and $\\Delta t = 1yr$.\n",
    "\n",
    "The simulated 8 stock prices are listed in the following table:"
   ]
  },
  {
   "cell_type": "markdown",
   "metadata": {},
   "source": [
    "<img src=\"table1.png\">"
   ]
  },
  {
   "cell_type": "markdown",
   "metadata": {},
   "source": [
    "Step 1:  Determine the payoff for each path at maturity $(t = 3)$"
   ]
  },
  {
   "cell_type": "markdown",
   "metadata": {},
   "source": [
    "<img src=\"table2.png\">"
   ]
  },
  {
   "cell_type": "markdown",
   "metadata": {},
   "source": [
    "Step 2:  For $t = 2$, the holding values are calculated as the present values of the option\n",
    "values at the next time point, i.e., at $t = 3$.  The holding and exercise values for all paths\n",
    "at $t = 2$ are listed as follows."
   ]
  },
  {
   "cell_type": "markdown",
   "metadata": {},
   "source": [
    "<img src=\"table3.png\">"
   ]
  },
  {
   "cell_type": "markdown",
   "metadata": {},
   "source": [
    "For in-the-money paths at $t=2$, i.e., paths 1, 3, 4, 6, and 7, decide whether or not it is\n",
    "optimal to early exercise for these paths.  The main idea to achieve this goal is to employ\n",
    "a regression equation, e.g.,\n",
    "\n",
    "$$HV=a + bS + cS^2 + \\nu$$\n",
    "\n",
    "where S is the stock price at $t=2$ for paths $1, 3, 4, 6$ and $7$, and $\\nu\\sim N(0,\\eta^2)$\n",
    "\u001d",
    "is the white noise, to estimate the\n",
    "expected holding value $\\mathbb{E}[HV]=a+bS+cS^2$."
   ]
  },
  {
   "cell_type": "markdown",
   "metadata": {},
   "source": [
    "<img src=\"table4.png\">"
   ]
  },
  {
   "cell_type": "markdown",
   "metadata": {},
   "source": [
    "For paths $4, 6$ and $7$, since $EV > \\mathbb{E}[HV]$, the option values for these paths at\n",
    "$t = 2$ are the corresponding exercise values.  In addition, set the option value for these paths\n",
    "at the subsequent time point, i.e., $t=3$ at the current step, to be zero.  For other paths,\n",
    "the option values are the holding values, HV. "
   ]
  },
  {
   "cell_type": "markdown",
   "metadata": {},
   "source": [
    "Step 3:  For $t=1$, the holding values are calculated as the present value of the option\n",
    "values at the subsequent time point, i.e., at $t=2$.  The holding and exercise values for all\n",
    "paths at $t = 1$ are listed in the following table."
   ]
  },
  {
   "cell_type": "markdown",
   "metadata": {},
   "source": [
    "<img src=\"table5.png\">"
   ]
  },
  {
   "cell_type": "markdown",
   "metadata": {},
   "source": [
    "For in-the-money paths at $t = 1$,  i.e. paths $1,  4,  6,  7$  and $8$,  perform the regression\n",
    "analysis to estimate the expected holding value, $\\mathbb{E}[HV]$."
   ]
  },
  {
   "cell_type": "markdown",
   "metadata": {},
   "source": [
    "<img src=\"table6.png\">"
   ]
  },
  {
   "cell_type": "markdown",
   "metadata": {},
   "source": [
    "Step 3:  For $t = 1$, the holding values are calculated as the present value of the option\n",
    "values at the sebsequent time point, i.e., at $t= 2$.  The holding and exercise values for all\n",
    "paths at $t= 1$ are listed in the following table."
   ]
  },
  {
   "cell_type": "markdown",
   "metadata": {},
   "source": [
    "<img src=\"table7.png\">"
   ]
  },
  {
   "cell_type": "markdown",
   "metadata": {},
   "source": [
    "Step 4:  The American put option value at $t= 0$:\n",
    "$$\\frac{1}{8}(0 + 0 + 0.06208e^{-0.06} \n",
    "+ 0.17e^{-0.06} +0 + 0.34e^{-0.06} + 0.18e^{-0.06} + 0.22e^{-0.06}) = 0.1144>1.1-1.0$$\n",
    "(The early exercise value today is 0.1, which is smaller than the option value today, $0\n",
    ".1144$, so it is not optimal to early exercise today)."
   ]
  },
  {
   "cell_type": "markdown",
   "metadata": {},
   "source": [
    "### Implementing the LSM Algorithm"
   ]
  },
  {
   "cell_type": "markdown",
   "metadata": {},
   "source": [
    "<img src=\"table8.png\">"
   ]
  },
  {
   "cell_type": "code",
   "execution_count": 1,
   "metadata": {},
   "outputs": [
    {
     "name": "stdout",
     "output_type": "stream",
     "text": [
      "American call option value 14.239\n"
     ]
    }
   ],
   "source": [
    "#\n",
    "# Valuation of American Options\n",
    "# with Least-Squares Monte Carlo\n",
    "#\n",
    "import math\n",
    "import numpy as np\n",
    "np.random.seed(150000)\n",
    "\n",
    "# Model Parameters\n",
    "S0 = 52.  # initial stock level\n",
    "K = 40.  # strike price\n",
    "T = 1.0  # time-to-maturity\n",
    "r = 0.06  # short rate\n",
    "sigma = 0.2  # volatility\n",
    "\n",
    "# Order of polynomial for LS regression\n",
    "m = 3\n",
    "\n",
    "# Simulation Parameters\n",
    "I = 10\n",
    "M = 1\n",
    "dt = T / M\n",
    "df = math.exp(-r * dt)\n",
    "S = np.zeros((M+1, I))\n",
    "# Stock Price Paths\n",
    "\n",
    "S[0] = S0\n",
    "for i in range(0,I):\n",
    "    for j in range(1,M+1):\n",
    "        S[j,i]=S[j-1,i]*(1.0+r*dt)\n",
    "#S[1:(M+1),:] = S0 * np.exp(np.cumsum((r - 0.5 * sigma ** 2) * dt + sigma * math.sqrt(dt) * np.random.standard_normal((M, I)), axis=0))\n",
    "\n",
    "\n",
    "# Inner Values\n",
    "h = np.maximum(S - K, 0)\n",
    "\n",
    "# Present Value Vector (Initialization)\n",
    "V = h[-1]\n",
    "\n",
    "# American Option Valuation by Backwards Induction\n",
    "for t in xrange(M - 1, 0, -1):\n",
    "    rg = np.polyfit(S[t], V * df, m)\n",
    "    C = np.polyval(rg, S[t])  # continuation values\n",
    "    V = np.where(h[t] > C, h[t], V * df)# exercise decision\n",
    "    \n",
    "V0 = df * np.sum(V) / I  # LSM estimator\n",
    "\n",
    "print \"American call option value %5.3f\" % V0"
   ]
  },
  {
   "cell_type": "code",
   "execution_count": null,
   "metadata": {},
   "outputs": [],
   "source": []
  },
  {
   "cell_type": "markdown",
   "metadata": {},
   "source": [
    "### Solving the General Least Squared Fitting Problem\n",
    "\n",
    "We just used numpy.polyfit for fitting a set of functions to (given)\n",
    "data. However it would be useful to understand this function in more detail so that we can build our own fitting techniques for more generalized functions than just polynomials.\n",
    "\n",
    "As a starting point, we describe the procedure for fitting an\n",
    "m^{th} degree polynomial - it is straightforward to extend the idea to a\n",
    "general class of polynomial.\n",
    "When using an m^{th} degree polynomial\n",
    "\n",
    "$$y=a_0 + a_1x +a_2x^2+ \\cdots a_{m}x^m$$\n",
    "\n",
    "to approximate the given set of data,\n",
    "$$(x_1,y_1),(x_2,y_2),\\dots,(x_m,y_m)$$\n",
    "\n",
    "The best fitted curve $f(x)$\n",
    "has the least square error, i.e.,\n",
    "$$\\pi=min\\left(\\sum_{i=1}^n(y_i - f(x_i))^2\\right)$$\n",
    "\n",
    "\n",
    "Note that $a_0, a_1, \\dots, a_m$ are unknown coefficients\n",
    "while all $x_i$ and $y_i$ are given. To obtain the least square\n",
    "error, the first derivatives of $\\pi$ must be zero w.r.t. to the unknown coefficients so that\n",
    "\n",
    "$$\\frac{\\partial \\pi}{\\partial a_j}= - 2\\sum_{i=1}^nx^j[y_i-(a_0 + a_1x_1 + \\dots a_mx^m)]$$\n",
    "\n",
    "thus giving a set of $m+1$ simultaneous equations which can be expressed in canonical form as the following linear system\n",
    "\n",
    "$$ Ax=b$$\n",
    "where:\n",
    "$$ A= \\left[ {\\begin{array}{cccc} \n",
    "n & \\sum_{i=1}^nx_i & \\dots & \\sum_{i=1}^nx_i^m \\\\ \n",
    "\\sum_{i=1}^nx_i & \\sum_{i=1}^nx_i^2 & \\dots & \\sum_{i=1}^nx_i^{m+1}\\\\ \n",
    "\\dots & \\dots & \\dots & \\dots\\\\\n",
    "\\sum_{i=1}^nx_i^m & \\sum_{i=1}^nx_i^{m+1} & \\dots & \\sum_{i=1}^nx_i^{2m}\\\\ \n",
    "\\end{array} } \\right] $$\n",
    "and\n",
    "$$ x= \\left[ {\\begin{array}{c} \n",
    "a_0\\\\\n",
    "a_1\\\\\n",
    "\\dots\\\\\n",
    "a_m\\\\\n",
    "\\end{array} } \\right] $$\n",
    "and\n",
    "$$ b= \\left[ {\\begin{array}{c} \n",
    "\\sum_{i=1}^ny_i\\\\\n",
    "\\sum_{i=1}^nx_i y_i\\\\\n",
    "\\dots\\\\\n",
    "\\sum_{i=1}^nx_i^my_i\\\\\n",
    "\\end{array} } \\right] $$"
   ]
  },
  {
   "cell_type": "markdown",
   "metadata": {},
   "source": [
    "The general form of this kind of regression model is\n",
    "\n",
    "$$\\hat{C}(s)=\\sum_{d=1}^D\\alpha^*_d \\cdot B_d(s)$$\n",
    "where $B_1(s), \\dots , B_D(s)$ are arbitrary fixed functions of s, referred to as basis functions."
   ]
  },
  {
   "cell_type": "markdown",
   "metadata": {},
   "source": [
    "\n",
    "One of the requirements for the regression analysis is that the explanatory variables should\n",
    "be independent. For this reason, this choice of polynomial basis functions is error prone.  Orthogonal basis functions are typically used such as weighted Laguerre basis functions. Other choices are Hermite, \n",
    "Legendre, Chebyshev, Gegenbauer, and Jacobi polynomials. Laguerre basis functions take the form:\n",
    "\n",
    "$$B_j(s) = e^{-s/2}\\frac{e^s}{j!}\\frac{d^j}{ds^j}(s^je^{-s})$$\n",
    "\n",
    "\n"
   ]
  },
  {
   "cell_type": "code",
   "execution_count": 2,
   "metadata": {},
   "outputs": [
    {
     "name": "stdout",
     "output_type": "stream",
     "text": [
      "American call option value 15.583\n"
     ]
    }
   ],
   "source": [
    "#\n",
    "# Valuation of American Options\n",
    "# with Least-Squares Monte Carlo\n",
    "#\n",
    "import math\n",
    "import numpy as np\n",
    "from numpy.polynomial import laguerre\n",
    "\n",
    "\n",
    "# Model Parameters\n",
    "S0 = 52.  # initial stock level\n",
    "K = 40.  # strike price\n",
    "T = 1.0  # time-to-maturity\n",
    "r = 0.06  # short rate\n",
    "sigma = 0.2  # volatility\n",
    "\n",
    "#calculate BS put price here (when r=0)\n",
    "#V_exact\n",
    "error = []\n",
    "#for m in range(1,10):\n",
    "# Order of polynomial for LS regression\n",
    "np.random.seed(1)\n",
    "\n",
    "# Simulation Parameters\n",
    "I = 10\n",
    "M = 2\n",
    "dt = T / M\n",
    "df = math.exp(-r * dt)\n",
    "m = 2\n",
    "# Stock Price Paths\n",
    "S = np.zeros((M+1, I))\n",
    "S[0] = S0\n",
    "rng = [-1,1,0.5,-0.5,0.2,-0.2,0.4,-0.4,0.3,-0.3]\n",
    "for i in range(0,I):\n",
    "    for j in range(1,M+1):\n",
    "        S[j,i]=S[j-1,i]*(1.0+r*dt+sigma*math.sqrt(dt)*rng[i]); # + sigma*math.sqrt(dt)*np.random.randn(1))\n",
    "       \n",
    " \n",
    "#S = S0 * np.exp(np.cumsum((r - 0.5 * sigma ** 2) * dt\n",
    "#    + sigma * math.sqrt(dt) * np.random.standard_normal((M + 1, I)), axis=0))\n",
    "h = np.maximum(S-K, 0)\n",
    " \n",
    "# Inner Values\n",
    "\n",
    "\n",
    "# Present Value Vector (Initialization)\n",
    "V = h[-1]\n",
    "\n",
    "#V[range(0,I,3)]=0  \n",
    "\n",
    "# American Option Valuation by Backwards Induction\n",
    "for t in xrange(M-1, 0, -1):\n",
    "    \n",
    "    rg= laguerre.lagfit(S[t], V * df, m)\n",
    "    C = laguerre.lagval(S[t], rg)# continuation values\n",
    "    V = np.where(h[t] > C, h[t], V * df)\n",
    "      # exercise decision\n",
    "V0 = df * np.sum(V) / I  # LSM estimator\n",
    "\n",
    "print \"American call option value %5.3f\" % V0\n",
    "#error.append(math.abs(V0-V_exact))"
   ]
  },
  {
   "cell_type": "code",
   "execution_count": 6,
   "metadata": {},
   "outputs": [],
   "source": [
    "# fit GP regression\n",
    "\n",
    "import os\n",
    "os.environ['TF_C_API_GRAPH_CONSTRUCTION']='0'\n",
    "import tensorflow as tf\n",
    "import edward as ed\n",
    "import matplotlib.pyplot as plt\n",
    "import numpy as np\n",
    "from edward.models import Normal\n",
    "plt.style.use('ggplot')"
   ]
  },
  {
   "cell_type": "code",
   "execution_count": 8,
   "metadata": {},
   "outputs": [],
   "source": [
    "x_train = S[1].reshape(1,10)\n",
    "x_test = S[2].reshape(1,10)\n",
    "y_train = [V0]\n",
    "\n",
    "for t in xrange(M, 1, -1):\n",
    "    rg= laguerre.lagfit(S[t], V * df, m)\n",
    "    C = laguerre.lagval(S[t], rg)# continuation values\n",
    "    V = np.where(h[t] > C, h[t], V * df)\n",
    "      # exercise decision\n",
    "V_test = df * np.sum(V) / I  # LSM estimator\n",
    "y_test = np.array([V_test])"
   ]
  },
  {
   "cell_type": "code",
   "execution_count": 7,
   "metadata": {},
   "outputs": [],
   "source": [
    "n = 1\n",
    "d = 10\n",
    "\n",
    "X = tf.placeholder(tf.float32, [n, d])\n",
    "w = Normal(loc=tf.zeros(d), scale=tf.ones(d))\n",
    "b = Normal(loc=tf.zeros(1), scale=tf.ones(1))\n",
    "y = Normal(loc=ed.dot(X, w) + b, scale=tf.ones(n))"
   ]
  },
  {
   "cell_type": "code",
   "execution_count": 9,
   "metadata": {},
   "outputs": [],
   "source": [
    "qw = Normal(loc=tf.get_variable(\"qw/loc\", [d]),\n",
    "            scale=tf.nn.softplus(tf.get_variable(\"qw/scale\", [d])))\n",
    "qb = Normal(loc=tf.get_variable(\"qb/loc\", [1]),\n",
    "            scale=tf.nn.softplus(tf.get_variable(\"qb/scale\", [1])))"
   ]
  },
  {
   "cell_type": "code",
   "execution_count": 23,
   "metadata": {},
   "outputs": [
    {
     "name": "stdout",
     "output_type": "stream",
     "text": [
      "1000/1000 [100%] ██████████████████████████████ Elapsed: 4s | Loss: 43.537\n"
     ]
    }
   ],
   "source": [
    "# Iference\n",
    "inference = ed.KLqp({w : qw, b: qb}, data={X: x_train, y: y_train})\n",
    "inference.run(n_samples=5, n_iter=1000)"
   ]
  },
  {
   "cell_type": "code",
   "execution_count": 24,
   "metadata": {},
   "outputs": [
    {
     "name": "stdout",
     "output_type": "stream",
     "text": [
      "Mean squared error on test data:\n",
      "5.78166\n",
      "Mean absolute error on test data:\n",
      "2.31729\n"
     ]
    }
   ],
   "source": [
    "#criticism\n",
    "y_post = Normal(loc=ed.dot(X, qw) + qb, scale=tf.ones(n))\n",
    "\n",
    "print(\"Mean squared error on test data:\")\n",
    "print(ed.evaluate('mean_squared_error', data={X: x_test, y_post: y_test}))\n",
    "\n",
    "print(\"Mean absolute error on test data:\")\n",
    "print(ed.evaluate('mean_absolute_error', data={X: x_test, y_post: y_test}))"
   ]
  },
  {
   "cell_type": "code",
   "execution_count": 33,
   "metadata": {},
   "outputs": [],
   "source": [
    "def visualise(x_data, y_data, w, b, n_samples=10):\n",
    "  w_samples = w.sample(n_samples)[:, 6].eval() # change 0 to other number to check the learning result of other dimention.\n",
    "  b_samples = b.sample(n_samples).eval()\n",
    "  #plt.scatter(x_data, y_data)\n",
    "  inputs = np.linspace(-10,10, num=400)\n",
    "  for ns in range(n_samples):\n",
    "    output = inputs * w_samples[ns] + b_samples[ns]\n",
    "    plt.plot(inputs, output)"
   ]
  },
  {
   "cell_type": "code",
   "execution_count": 34,
   "metadata": {},
   "outputs": [
    {
     "data": {
      "image/png": "[encoded data removed]",
      "text/plain": [
       "<Figure size 432x288 with 1 Axes>"
      ]
     },
     "metadata": {},
     "output_type": "display_data"
    }
   ],
   "source": [
    "visualise(x_train, y_train, w, b)"
   ]
  },
  {
   "cell_type": "code",
   "execution_count": 35,
   "metadata": {},
   "outputs": [
    {
     "data": {
      "image/png": "[encoded data removed]",
      "text/plain": [
       "<Figure size 432x288 with 1 Axes>"
      ]
     },
     "metadata": {},
     "output_type": "display_data"
    }
   ],
   "source": [
    "visualise(x_train, y_train, qw, qb)"
   ]
  },
  {
   "cell_type": "markdown",
   "metadata": {},
   "source": [
    "given one dataset combination, the fitting result looks good, small errors and improved linear relationship for all dimentions of variable."
   ]
  },
  {
   "cell_type": "code",
   "execution_count": null,
   "metadata": {},
   "outputs": [],
   "source": []
  }
 ],
 "metadata": {
  "kernelspec": {
   "display_name": "Python 2",
   "language": "python",
   "name": "python2"
  },
  "language_info": {
   "codemirror_mode": {
    "name": "ipython",
    "version": 2
   },
   "file_extension": ".py",
   "mimetype": "text/x-python",
   "name": "python",
   "nbconvert_exporter": "python",
   "pygments_lexer": "ipython2",
   "version": "2.7.15"
  }
 },
 "nbformat": 4,
 "nbformat_minor": 1
}
