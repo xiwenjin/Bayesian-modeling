{
 "cells": [
  {
   "cell_type": "code",
   "execution_count": 1,
   "metadata": {},
   "outputs": [
    {
     "name": "stderr",
     "output_type": "stream",
     "text": [
      "/Users/matthewdixon/anaconda/lib/python2.7/site-packages/statsmodels/compat/pandas.py:56: FutureWarning: The pandas.core.datetools module is deprecated and will be removed in a future version. Please use the pandas.tseries module instead.\n",
      "  from pandas.core import datetools\n"
     ]
    },
    {
     "ename": "ImportError",
     "evalue": "No module named QuantLib",
     "output_type": "error",
     "traceback": [
      "\u001b[0;31m---------------------------------------------------------------------------\u001b[0m",
      "\u001b[0;31mImportError\u001b[0m                               Traceback (most recent call last)",
      "\u001b[0;32m<ipython-input-1-d83503e15bab>\u001b[0m in \u001b[0;36m<module>\u001b[0;34m()\u001b[0m\n\u001b[1;32m      3\u001b[0m \u001b[0;32mimport\u001b[0m \u001b[0mmatplotlib\u001b[0m\u001b[0;34m.\u001b[0m\u001b[0mpyplot\u001b[0m \u001b[0;32mas\u001b[0m \u001b[0mplt\u001b[0m\u001b[0;34m\u001b[0m\u001b[0m\n\u001b[1;32m      4\u001b[0m \u001b[0;32mimport\u001b[0m \u001b[0mstatsmodels\u001b[0m\u001b[0;34m.\u001b[0m\u001b[0mapi\u001b[0m \u001b[0;32mas\u001b[0m \u001b[0msm\u001b[0m\u001b[0;34m\u001b[0m\u001b[0m\n\u001b[0;32m----> 5\u001b[0;31m \u001b[0;32mimport\u001b[0m \u001b[0mQuantLib\u001b[0m \u001b[0;32mas\u001b[0m \u001b[0mql\u001b[0m\u001b[0;34m\u001b[0m\u001b[0m\n\u001b[0m\u001b[1;32m      6\u001b[0m \u001b[0mget_ipython\u001b[0m\u001b[0;34m(\u001b[0m\u001b[0;34m)\u001b[0m\u001b[0;34m.\u001b[0m\u001b[0mmagic\u001b[0m\u001b[0;34m(\u001b[0m\u001b[0;34mu'matplotlib inline'\u001b[0m\u001b[0;34m)\u001b[0m\u001b[0;34m\u001b[0m\u001b[0m\n",
      "\u001b[0;31mImportError\u001b[0m: No module named QuantLib"
     ]
    }
   ],
   "source": [
    "# import the used libraries\n",
    "import numpy as np\n",
    "import matplotlib.pyplot as plt\n",
    "import statsmodels.api as sm\n",
    "import QuantLib as ql\n",
    "%matplotlib inline"
   ]
  },
  {
   "cell_type": "markdown",
   "metadata": {},
   "source": [
    "The loop for calculating CVAs takes at least 1 hr to run, once run, save the data in .csv file and read it for future usage."
   ]
  },
  {
   "cell_type": "markdown",
   "metadata": {},
   "source": [
    "    today = ql.Date(7,4,2015)\n",
    "    ql.Settings.instance().setEvaluationDate(today)\n",
    "\n",
    "    # Setup Marketdata\n",
    "    rate = ql.SimpleQuote(0.03)\n",
    "    rate_handle = ql.QuoteHandle(rate)\n",
    "    dc = ql.Actual365Fixed()\n",
    "    yts = ql.FlatForward(today, rate_handle, dc)\n",
    "    yts.enableExtrapolation()\n",
    "    hyts = ql.RelinkableYieldTermStructureHandle(yts)\n",
    "    t0_curve = ql.YieldTermStructureHandle(yts)\n",
    "    euribor6m = ql.Euribor6M(hyts)\n",
    "    cal = ql.TARGET()\n",
    "\n",
    "    # Setup a dummy portfolio with two Swaps\n",
    "    def makeSwap(start, maturity, nominal, fixedRate, index, typ=ql.VanillaSwap.Payer):\n",
    "        end = ql.TARGET().advance(start, maturity)\n",
    "        fixedLegTenor = ql.Period(\"1y\")\n",
    "        fixedLegBDC = ql.ModifiedFollowing\n",
    "        fixedLegDC = ql.Thirty360(ql.Thirty360.BondBasis)\n",
    "        spread = 0.0\n",
    "        fixedSchedule = ql.Schedule(start,end,  fixedLegTenor,   index.fixingCalendar(),   fixedLegBDC,  fixedLegBDC,   ql.DateGeneration.Backward,   False)\n",
    "        floatSchedule = ql.Schedule(start,  end,  index.tenor(),  index.fixingCalendar(),   index.businessDayConvention(),  index.businessDayConvention(),   ql.DateGeneration.Backward,  False)\n",
    "        swap = ql.VanillaSwap(typ,  nominal,  fixedSchedule,  fixedRate,  fixedLegDC,  floatSchedule,  index,  spread,  index.dayCounter())\n",
    "        return swap, [index.fixingDate(x) for x in floatSchedule][:-1]\n",
    "\n",
    "\n",
    "    def makeSwaption(swap, callDates, settlement):\n",
    "        if len(callDates) == 1:\n",
    "            exercise = ql.EuropeanExercise(callDates[0])\n",
    "        else:\n",
    "            exercise = ql.BermudanExercise(callDates)\n",
    "        return ql.Swaption(swap, exercise, settlement)\n",
    "\n",
    "\n",
    "    settlementDate = today + ql.Period(\"2D\")\n",
    "    \n",
    "result = []\n",
    "change = np.arange(0.01, 0.1, 0.001)"
   ]
  },
  {
   "cell_type": "code",
   "execution_count": null,
   "metadata": {
    "collapsed": true
   },
   "outputs": [],
   "source": []
  },
  {
   "cell_type": "markdown",
   "metadata": {},
   "source": [
    "for itr in change:\n",
    "    swaps = [makeSwap(settlementDate,  ql.Period(\"5Y\"), 1e6,  itr,  euribor6m) ]\n",
    "    calldates = [ql.Date(7,4,2016), ql.Date(6,4,2017), ql.Date(5,4, 2018), ql.Date(5,4,2019)]\n",
    "    #swaptions = [makeSwaption(swap,  calldates,  ql.Settlement.Physical)  for swap, fd in swaps]\n",
    "    calldates = [euribor6m.valueDate(d) for d in calldates]\n",
    "\n",
    "    engine = ql.DiscountingSwapEngine(hyts)\n",
    "    for swap, fixingDates in swaps:\n",
    "        swap.setPricingEngine(engine)\n",
    "    \n",
    "    # Assume the model is already calibrated either historical or market implied\n",
    "    volas = [ql.QuoteHandle(ql.SimpleQuote(0.0075)), ql.QuoteHandle(ql.SimpleQuote(0.0075))]\n",
    "    meanRev = [ql.QuoteHandle(ql.SimpleQuote(0.002))]\n",
    "    model = ql.Gsr(t0_curve, [today+100], volas, meanRev, 16.)\n",
    "    process = model.stateProcess()\n",
    "    mcDC = yts.dayCounter()\n",
    "\n",
    "    def timeFromReferenceFactory(daycounter, ref):\n",
    "        def impl(dat):\n",
    "            return daycounter.yearFraction(ref, dat)\n",
    "        return np.vectorize(impl)\n",
    "\n",
    "    timeFromReference = timeFromReferenceFactory(mcDC, today)\n",
    "\n",
    "    def getFixedLeg(swap, t):\n",
    "        fixed_leg = swap.leg(0)\n",
    "        n = len(fixed_leg)\n",
    "        fixed_times=[]\n",
    "        fixed_amounts=[]\n",
    "        npv = 0\n",
    "        for i in range(n):\n",
    "            cf = fixed_leg[i]\n",
    "            t_i = timeFromReference(cf.date())\n",
    "            if t_i > t:\n",
    "                fixed_times.append(t_i)\n",
    "                fixed_amounts.append(cf.amount())\n",
    "        return np.array(fixed_times), np.array(fixed_amounts)\n",
    "\n",
    "    def getFloatingLeg(swap, t):\n",
    "        float_leg = swap.leg(1)\n",
    "        n = len(float_leg)\n",
    "        float_times = []\n",
    "        float_dcf = []\n",
    "        accrual_start_time = []\n",
    "        accrual_end_time = []\n",
    "        nominals = []\n",
    "        for i in range(n):\n",
    "            # convert base classiborstart_idx Cashflow to\n",
    "            # FloatingRateCoupon\n",
    "            cf = ql.as_floating_rate_coupon(float_leg[i])\n",
    "            value_date = cf.referencePeriodStart()\n",
    "            t_fix_i = timeFromReference(value_date)\n",
    "            t_i = timeFromReference(cf.date()) \n",
    "            if t_fix_i >= t:\n",
    "                iborIndex = cf.index()\n",
    "                index_mat = cf.referencePeriodEnd()\n",
    "                # year fraction\n",
    "                float_dcf.append(cf.accrualPeriod())\n",
    "                # calculate the start and end time\n",
    "                accrual_start_time.append(t_fix_i)\n",
    "                accrual_end_time.append(timeFromReference(index_mat))\n",
    "                # payment time\n",
    "                float_times.append(t_i)\n",
    "                # nominals \n",
    "                nominals.append(cf.nominal())\n",
    "        return np.array(float_times), np.array(float_dcf), np.array(accrual_start_time), np.array(accrual_end_time), np.array(nominals)\n",
    "    \n",
    "    def getFixedFloatingPeriod(swap, t):\n",
    "        float_leg = swap.leg(1)\n",
    "        n = len(float_leg)\n",
    "        for i in range(n):\n",
    "            cf = ql.as_floating_rate_coupon(float_leg[i])\n",
    "            value_date = cf.referencePeriodStart()\n",
    "            t_fix_i = timeFromReference(value_date)\n",
    "            t_i = timeFromReference(cf.date()) \n",
    "            if t_fix_i < t and t < t_i:\n",
    "                iborIndex = cf.index()         \n",
    "                index_mat = cf.referencePeriodEnd()\n",
    "                # year fraction\n",
    "                float_dcf = cf.accrualPeriod()\n",
    "                # calculate the start and end time\n",
    "                accrual_start_time = t_fix_i\n",
    "                accrual_end_time = timeFromReference(index_mat)\n",
    "                # payment time\n",
    "                float_times = t_i\n",
    "                # nominals \n",
    "                nominals = cf.nominal()\n",
    "                return (float(float_times), float(float_dcf), float(accrual_start_time), float(accrual_end_time), float(nominals))\n",
    "        return (float(t), 1., float(t), float(t), 0.)\n",
    "\n",
    "    def swapPathNPV(swap, t, timegrid):\n",
    "        fixed_times, fixed_amounts = getFixedLeg(swap, t)\n",
    "        float_times, float_dcf, accrual_start_time, accrual_end_time, nominals = getFloatingLeg(swap, t)\n",
    "        df_times = np.concatenate([fixed_times,  accrual_start_time, accrual_end_time, float_times])\n",
    "        df_times = np.unique(df_times)\n",
    "        # Store indices of fix leg payment times in \n",
    "        # the df_times array\n",
    "        fix_idx = np.in1d(df_times, fixed_times, True)\n",
    "        fix_idx = fix_idx.nonzero()\n",
    "        # Indices of the floating leg payment times \n",
    "        # in the df_times array\n",
    "        float_idx = np.in1d(df_times, float_times, True)\n",
    "        float_idx = float_idx.nonzero()\n",
    "        # Indices of the accrual start and end time\n",
    "        # in the df_times array\n",
    "        accrual_start_idx = np.in1d(df_times, accrual_start_time, True)\n",
    "        accrual_start_idx = accrual_start_idx.nonzero()\n",
    "        accrual_end_idx = np.in1d(df_times, accrual_end_time, True)\n",
    "        accrual_end_idx = accrual_end_idx.nonzero()\n",
    "        paytime_ffp, float_dcf_ffp, accrual_start_time_ffp, accrual_end_time_ffp, nominals_ffp = getFixedFloatingPeriod(swap, t)\n",
    "        # Calculate NPV\n",
    "        def calc(path):\n",
    "            if len(df_times)==0:\n",
    "                return 0\n",
    "            i = np.where(timegrid == t)[0][0]\n",
    "            x_t = path[i]\n",
    "            discount = np.vectorize(lambda T: model.zerobond(T, t, x_t))\n",
    "            dfs = discount(df_times)\n",
    "            # Calculate fixed leg npv\n",
    "            fix_leg_npv = np.sum(fixed_amounts * dfs[fix_idx])\n",
    "            # Estimate the index fixings\n",
    "            index_fixings = (dfs[accrual_start_idx] / dfs[accrual_end_idx] - 1) \n",
    "            index_fixings /= float_dcf\n",
    "            # Calculate the floating leg npv\n",
    "            float_leg_npv = np.sum(nominals * index_fixings * float_dcf * dfs[float_idx])\n",
    "            # Calculate the already fixed accrual period of the floating leg\n",
    "            t_f = accrual_start_time_ffp\n",
    "            i = np.where(timegrid == t_f)[0][0]\n",
    "            x_f = path[i]\n",
    "            df_e = model.zerobond(accrual_end_time_ffp, t_f, x_f)\n",
    "            npv_accrualperiod = (1. / df_e - 1) * nominals_ffp * model.zerobond(paytime_ffp, t, x_t)\n",
    "            # Calculate swap npv\n",
    "            npv = float_leg_npv + npv_accrualperiod - fix_leg_npv\n",
    "            return npv\n",
    "        return calc\n",
    "\n",
    "    # Convert call date to time\n",
    "    callTimes = timeFromReference(calldates)\n",
    "\n",
    "    swap = swaps[0][0]\n",
    "    npv = swapPathNPV(swap, 0., np.array([0.]))(np.array([0.]))\n",
    "\n",
    "    def fixingdates(swap):\n",
    "        leg = swap.leg(1)\n",
    "        n = len(leg)\n",
    "        fixing_dates = []\n",
    "        for i in range(0, n):\n",
    "            cf = ql.as_floating_rate_coupon(leg[i])\n",
    "            value_date = cf.referencePeriodStart()\n",
    "            fixing_dates.append(value_date)\n",
    "        return fixing_dates\n",
    "\n",
    "    # Define evaluation grid\n",
    "    fixing_dates = fixingdates(swap)\n",
    "    fixing_times = timeFromReference(fixing_dates )\n",
    "\n",
    "    date_grid = [today + ql.Period(i, ql.Months) for i in range(0,66)] + calldates + fixing_dates\n",
    "\n",
    "    date_grid = np.unique(np.sort(date_grid))\n",
    "    time_grid = np.vectorize(lambda x: ql.Actual365Fixed().yearFraction(today, x))(date_grid)\n",
    "    time_grid = np.unique(time_grid)\n",
    "    dt = time_grid[1:] - time_grid[:-1]\n",
    "\n",
    "    seed = 1\n",
    "    urng = ql.MersenneTwisterUniformRng(seed)\n",
    "    usrg = ql.MersenneTwisterUniformRsg(len(time_grid)-1,urng)\n",
    "    generator = ql.InvCumulativeMersenneTwisterGaussianRsg(usrg)\n",
    "\n",
    "    M = 10000\n",
    "    m = len(time_grid)\n",
    "    x = np.zeros((M, m))\n",
    "    y = np.zeros((M, m))\n",
    "    numeraires = np.zeros((M, m))\n",
    "                      \n",
    "    for n in range(0, M):\n",
    "        numeraires[n, 0] = model.numeraire(0, 0)\n",
    "    \n",
    "    for n in range(0,M):\n",
    "        dWs = generator.nextSequence().value()\n",
    "        j = 1\n",
    "        for i in range(1, len(time_grid)):\n",
    "            t0 = time_grid[i-1]\n",
    "            t1 = time_grid[i]\n",
    "            e = process.expectation(t0, x[n,i-1],   dt[i-1])\n",
    "            std = process.stdDeviation(t0,   x[n,i-1],  dt[i-1])\n",
    "            x[n,i] = e + dWs[i-1] * std \n",
    "            e_0_0 = process.expectation(0,0,t1)\n",
    "            std_0_0 = process.stdDeviation(0,0,t1)\n",
    "            y[n,i] = (x[n,i] - e_0_0) / std_0_0\n",
    "            numeraires[n, i] = model.numeraire(t1, y[n,i])\n",
    "\n",
    "    swap_npvs = np.zeros((M, m))\n",
    "    cont_value = np.zeros(numeraires[:,i].shape)\n",
    "    for i in range(m-1, 0, -1):\n",
    "        t = time_grid[i]\n",
    "        pricer = swapPathNPV(swap, t, time_grid)\n",
    "        swap_npvs[:, i] = np.apply_along_axis(pricer, 1, y) / numeraires[:, 0]\n",
    "        exercise_values = np.zeros(numeraires[:,i].shape)\n",
    "        if t in callTimes:\n",
    "            exercise_values = swap_npvs[:, i].copy()\n",
    "            exercise_values[exercise_values < 0] = 0\n",
    "        states = y[:, i]\n",
    "        Y = np.column_stack((states, states**2, states**3, states**4))\n",
    "        Y = sm.add_constant(Y)\n",
    "        ols = sm.OLS(cont_value, Y)\n",
    "        ols_result = ols.fit()\n",
    "        cont_value_hat = np.sum(ols_result.params * Y, axis=1)\n",
    "    \n",
    "    swap_npvs[:, 0] = np.apply_along_axis(swapPathNPV(swap, 0, time_grid), 1, y) / numeraires[:, 0]\n",
    "    swap_npvs *= numeraires[0,0]\n",
    "\n",
    "    swap_npvs[swap_npvs<0] = 0\n",
    "    #swaption_npvs[swaption_npvs<0] = 0\n",
    "    #EE_swaption = np.mean(swaption_npvs, axis=0)\n",
    "    EE_swap = np.mean(swap_npvs, axis=0)\n",
    "\n",
    "    pd_dates =  [today + ql.Period(i, ql.Years) for i in range(11)]\n",
    "    hzrates = [0.02 * i for i in range(11)]\n",
    "    pd_curve = ql.HazardRateCurve(pd_dates,hzrates,ql.Actual365Fixed())\n",
    "    pd_curve.enableExtrapolation()\n",
    "    defaultProb_vec = np.vectorize(pd_curve.defaultProbability)\n",
    "    dPD = defaultProb_vec(time_grid[:-1], time_grid[1:])\n",
    "\n",
    "    recovery = 0.4\n",
    "    CVA = (1-recovery) * np.sum(EE_swap[1:] * dPD)\n",
    "    result.append(CVA)\n",
    "    print CVA"
   ]
  },
  {
   "cell_type": "code",
   "execution_count": 7,
   "metadata": {
    "collapsed": true
   },
   "outputs": [],
   "source": [
    "import os\n",
    "os.environ['TF_C_API_GRAPH_CONSTRUCTION']='0'\n",
    "import tensorflow as tf\n",
    "import edward as ed\n",
    "import matplotlib.pyplot as plt\n",
    "import numpy as np\n",
    "from edward.models import Normal\n",
    "import seaborn as sns\n",
    "plt.style.use('ggplot')\n",
    "from edward.models import MultivariateNormalTriL\n",
    "from edward.util import rbf\n",
    "import pandas as pd\n",
    "%matplotlib inline"
   ]
  },
  {
   "cell_type": "markdown",
   "metadata": {},
   "source": [
    "Given the range of fixed rate is from 0.01 to 0.15, which is too small for kernel function to reflect their relationship, we can multiply a scaler to change expand the change in fixed rate, as well as the noise term applied to K_noise. with different parameters below, we can obtain different training result."
   ]
  },
  {
   "cell_type": "code",
   "execution_count": 2,
   "metadata": {
    "collapsed": true
   },
   "outputs": [],
   "source": [
    "# read in .csv file\n",
    "df = pd.read_csv('fix-CVA data.csv', header=None)"
   ]
  },
  {
   "cell_type": "code",
   "execution_count": 3,
   "metadata": {
    "collapsed": true,
    "scrolled": true
   },
   "outputs": [],
   "source": [
    "x = np.array(df.iloc[:,0], dtype='float32')\n",
    "y = np.array(df.iloc[:,1], dtype='float32')"
   ]
  },
  {
   "cell_type": "code",
   "execution_count": 103,
   "metadata": {
    "collapsed": true
   },
   "outputs": [],
   "source": [
    "sess = ed.get_session()\n",
    "\n",
    "# change below parameters to see different training results.\n",
    "training_number = 150\n",
    "testing_number = 10\n",
    "scaler = 0.01\n",
    "noise_term = 1e-3\n",
    "\n",
    "\n",
    "train_idx = np.linspace(0, len(x)-1, training_number, dtype = 'int')\n",
    "test_idx = np.linspace(0, len(x)-1, testing_number, dtype = 'int')\n",
    "\n",
    "x_train = np.array(x[train_idx], dtype='float32').reshape(training_number, 1) \n",
    "y_train = np.array(y[train_idx], dtype='float32').reshape(training_number, 1)\n",
    "x_test = np.array(x[test_idx], dtype='float32').reshape(len(x[test_idx]), 1) \n",
    "y_test = np.array(y[test_idx], dtype='float32').reshape(len(x[test_idx]), 1)"
   ]
  },
  {
   "cell_type": "code",
   "execution_count": 104,
   "metadata": {},
   "outputs": [],
   "source": [
    "# mean\n",
    "Kernel = rbf(x_train, lengthscale=scaler).eval()\n",
    "K_noise = Kernel + np.eye(training_number) * noise_term  \n",
    "k_s = rbf(x_test, x_train, lengthscale=scaler).eval()                   \n",
    "L = np.linalg.cholesky(K_noise)\n",
    "alpha = np.linalg.solve(L.T, np.linalg.solve(L, y_train))\n",
    "predict_mean = np.dot(k_s, alpha)\n",
    "\n",
    "# cov\n",
    "v = np.linalg.solve(L, k_s.T)\n",
    "k_ss = rbf(x_test, lengthscale=scaler).eval()\n",
    "var = k_ss - np.dot(v.T, v)"
   ]
  },
  {
   "cell_type": "code",
   "execution_count": 106,
   "metadata": {},
   "outputs": [
    {
     "data": {
      "text/plain": [
       "<matplotlib.legend.Legend at 0x12b0c3f10>"
      ]
     },
     "execution_count": 106,
     "metadata": {},
     "output_type": "execute_result"
    },
    {
     "data": {
      "image/png": "[encoded data removed]",
      "text/plain": [
       "<matplotlib.figure.Figure at 0x12af1e710>"
      ]
     },
     "metadata": {},
     "output_type": "display_data"
    }
   ],
   "source": [
    "# plot with cov band\n",
    "up = predict_mean.reshape(len(x[test_idx]),) - 2 * (np.sqrt(np.diag(var)))   # 95% confident interval \n",
    "down = predict_mean.reshape(len(x[test_idx]),) + 2 * (np.sqrt(np.diag(var)))\n",
    "\n",
    "plt.figure(figsize = (10,6), facecolor='white', edgecolor='white')\n",
    "plt.plot(x_test, (predict_mean-y_test), color = 'red', label = 'GP Prediction')\n",
    "#plt.plot( x_test, y_test, color = 'black', label = 'Analytical Model')\n",
    "#plt.scatter(x_test,y_test, s = 150, color = 'black', marker = \"+\")\n",
    "plt.fill_between(np.array(x[test_idx]) , np.transpose(up-y_test.T).flatten(), np.transpose(down-y_test.T).flatten(), color = 'grey', alpha=0.3)\n",
    "plt.grid(True, color = 'black', alpha = 0.3)\n",
    "#plt.ylim(-1000, 6100)\n",
    "plt.xlabel('Fixed rate')\n",
    "plt.ylabel('CVA')\n",
    "plt.ylim(-100,100)\n",
    "plt.legend(loc = 'best', prop={'size':10})"
   ]
  },
  {
   "cell_type": "code",
   "execution_count": 97,
   "metadata": {},
   "outputs": [
    {
     "data": {
      "text/plain": [
       "array([-0.10038119, -0.05509142, -0.05484349, -0.0547935 , -0.05032151,\n",
       "       -0.03797982, -0.03756283, -0.03834717, -0.04002624, -0.09239856])"
      ]
     },
     "execution_count": 97,
     "metadata": {},
     "output_type": "execute_result"
    }
   ],
   "source": [
    "np.transpose(up-y_test.T).flatten()- np.transpose(down-y_test.T).flatten()"
   ]
  },
  {
   "cell_type": "code",
   "execution_count": 102,
   "metadata": {},
   "outputs": [
    {
     "data": {
      "text/plain": [
       "array([-0.04938923, -0.02385818, -0.02200037, -0.02091394, -0.01809027,\n",
       "       -0.01694434, -0.01723099, -0.0172421 , -0.01985242, -0.03820596])"
      ]
     },
     "execution_count": 102,
     "metadata": {},
     "output_type": "execute_result"
    }
   ],
   "source": [
    "up-down"
   ]
  },
  {
   "cell_type": "code",
   "execution_count": 18,
   "metadata": {},
   "outputs": [
    {
     "data": {
      "text/plain": [
       "[<matplotlib.lines.Line2D at 0x11f2ddb10>]"
      ]
     },
     "execution_count": 18,
     "metadata": {},
     "output_type": "execute_result"
    },
    {
     "data": {
      "image/png": "[encoded data removed]",
      "text/plain": [
       "<matplotlib.figure.Figure at 0x11f62e490>"
      ]
     },
     "metadata": {},
     "output_type": "display_data"
    }
   ],
   "source": [
    "plt.figure(figsize = (10,6), facecolor='white', edgecolor='white')\n",
    "plt.grid(True, color = 'grey', alpha = 0.3)\n",
    "plt.plot(x_test/scaler,down-up)\n"
   ]
  },
  {
   "cell_type": "code",
   "execution_count": null,
   "metadata": {
    "collapsed": true
   },
   "outputs": [],
   "source": []
  },
  {
   "cell_type": "code",
   "execution_count": null,
   "metadata": {
    "collapsed": true
   },
   "outputs": [],
   "source": []
  },
  {
   "cell_type": "code",
   "execution_count": null,
   "metadata": {
    "collapsed": true
   },
   "outputs": [],
   "source": []
  }
 ],
 "metadata": {
  "kernelspec": {
   "display_name": "Python 2",
   "language": "python",
   "name": "python2"
  },
  "language_info": {
   "codemirror_mode": {
    "name": "ipython",
    "version": 2
   },
   "file_extension": ".py",
   "mimetype": "text/x-python",
   "name": "python",
   "nbconvert_exporter": "python",
   "pygments_lexer": "ipython2",
   "version": "2.7.13"
  }
 },
 "nbformat": 4,
 "nbformat_minor": 2
}
