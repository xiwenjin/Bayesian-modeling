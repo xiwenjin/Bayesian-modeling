{
 "cells": [
  {
   "cell_type": "markdown",
   "metadata": {},
   "source": [
    "### Heston Model\n",
    "\n",
    "The Heston model describes the evolution of a stock price $S_t$ whose variance $V_t$ is given by a mean reverting square root process:\n",
    "\n",
    "\\begin{eqnarray}\n",
    "\\frac{dS_t}{S_t} &=& \\mu dt  + \\sqrt{V_t}dW_t^{1},\\\\\n",
    "dV_t &=& \\kappa(\\theta - V_t)dt  + \\sigma \\sqrt{V_t}dW_t^{2}.\n",
    "\\end{eqnarray}\n",
    "\n",
    "A key characteristic of the model is that the Wiener processes are correlated $dW_t^{1}\\cdot dW_t^{2}=\\rho dt$. This feature enables the model to exhibit the 'leverage effect'. "
   ]
  },
  {
   "cell_type": "markdown",
   "metadata": {},
   "source": [
    "### Jump Diffusion Models: Bates Method\n",
    "\n",
    "The Bates Jump-Diffusion model [BATES1993] is specified as the following set of coupled stochastic differential equations\n",
    "\n",
    "\\begin{equation}\n",
    "\\frac{dS_t}{S_t} = \\mu dt  + \\sqrt{V_t}dW_t^{1} + (Y-1)S_tdN_t,\n",
    "\\end{equation}\n",
    "\\begin{equation}\n",
    "dV_t = \\kappa(\\theta - V_t)dt  + \\sigma \\sqrt{V_t}dW_t^{2},\n",
    "\\end{equation}\n",
    "\n",
    "describing the evolution of a stock price $S_t$ whose variance $V_t$ is given by a mean reverting square root process which ensures that the variance is always positive provided that $2\\kappa\\theta - \\sigma^2>0$. $N_t$ is a standard Poisson process with intensity $\\lambda>0$ and $Y$ is the log-normal jump size distribution with mean $\\mu_j=ln (1+a) - \\frac{\\sigma_j^2}{2},~a>-1$ and standard deviation $\\sigma_j \\geq 0$. \n",
    "\n",
    "Both $N(t)$ and $Y$ are independent of the Wiener processes $W_t^{1}$ and $W_t^{2}$.  A key characteristic of the model, which originates from the embedded Heston stochastic volatility diffusion model, is that the Wiener processes are correlated $dW_t^{1}\\cdot dW_t^{2}=\\rho dt$. This feature enables the model to exhibit the leverage effect. Note that simply excluding the compound Poisson term $(Y-1)S_tdN_t$ recovers the Heston model."
   ]
  },
  {
   "cell_type": "markdown",
   "metadata": {},
   "source": [
    "## Pricing\n",
    "With marginal loss of generality, we will restrict the scope of this section to European equity options. Stochastic volatility models permit semi-analytical closed-form solutions for computing risk neutral European option prices. The price can be represented as a weighted sum of the delta of the European call option $P_1$ and $P_2$ - the probability that the asset price will\n",
    "exceed the strike price at maturity. Adopting standard option pricing notation, the call price of a vanilla European option is\n",
    "\n",
    "\\begin{equation}\n",
    " C(S_0, K,\\tau; \\mathbf{z}_0) = S_0P_1 - K\\exp\\{-(r-q )\\tau\\}P_2,\n",
    "\\end{equation}\n",
    "\n",
    "$P_1$ and $P_2$ can be expressed as:\n",
    "\n",
    "\\begin{equation}\n",
    "P_j =\\frac{1}{2} + \\frac{1}{\\pi} \\int_{o}^{\\infty} \\text{Re}\\left[\\frac{\\exp\\{-iu ln K\\}\\phi_j (S_0,\\tau,u; \\mathbf{z}_0)}{iu}\\right]du, j=1,2.\n",
    "\\end{equation}\n",
    "\n",
    "where $\\phi_j$ are Heston analytic characteristic functions and $\\mathbf{z}_0$ is the vector of Heston model parameters.  "
   ]
  },
  {
   "cell_type": "markdown",
   "metadata": {},
   "source": [
    "### Fourier-Cosine Method\n",
    "An alternative approach to the Carr-Madan FFT approach is to use the Fourier-Cosine Method. Following Fang and Oosterlee [FANG2008], the entire inverse Fourier integral in the pricing equation is reconstructed from Fourier-cosine series expansion of the integrand to give the following approximation of the call price\n",
    "\\begin{equation}\n",
    "C(S_0, K, \\tau; \\mathbf{z}_0) \\approx Ke^{-r\\tau} \\cdot \\text{Re}\\{\\sum_{k=0}^{N-1}'\\phi\\left(\\frac{k\\pi}{b-a};\\mathbf{z}_0\\right)e^{ik\\pi\\frac{x - a}{b-a}}U_k\\},\n",
    "\\end{equation}\n",
    "where $x:= ln(S_0/K)$ and $\\phi(w;\\mathbf{z}_0)$ denotes the characteristic function of the log-asset price, $U_k$ the payoff series coefficients and $N$ denotes the number of terms in the cosine series expansion (typically 128 will suffice). \n",
    "\n",
    "For the approximation of the Heston model call price, the Fourier-Cosine approach is shown to be superior in convergence properties to other FFT and quadrature based methods in [DIXON2013].\n"
   ]
  },
  {
   "cell_type": "markdown",
   "metadata": {},
   "source": [
    "<img src=\"error_convergence.png\">"
   ]
  },
  {
   "cell_type": "code",
   "execution_count": 1,
   "metadata": {},
   "outputs": [],
   "source": [
    "from random import Random\n",
    "from numpy import *\n",
    "from scipy import *\n",
    "from time import *\n",
    "from datetime import *\n",
    "import numpy as np\n",
    "import sys\n",
    "import csv\n",
    "\n",
    "%matplotlib inline"
   ]
  },
  {
   "cell_type": "code",
   "execution_count": 2,
   "metadata": {},
   "outputs": [],
   "source": [
    "### Implement the Fourier-Cosine Method\n",
    "def HestonCOS(S,K,T,r,sigma,lmbda,meanV,v0,rho, otype, N=256):\n",
    "    c1 = r*T+(1-exp(-lmbda*T))*(meanV-v0)/(2.0*lmbda)-0.5*meanV*T\n",
    "    c2 = 1.0/(8.0*lmbda**3)*(sigma*T*lmbda*exp(-lmbda*T)*(v0-meanV)*(8.0*lmbda*rho-4.0*sigma)+lmbda*rho*sigma*(1-exp(-lmbda*T))*(16.0*meanV-8.0*v0)+2.0*meanV*lmbda*T*(-4.0*lmbda*rho*sigma+sigma**2+4.0*lmbda**2)+sigma**2*((meanV-2.0*v0)*exp(-2.0*lmbda*T)+meanV*(6.0*exp(-lmbda*T)-7.0)+2.0*v0)+8.0*lmbda**2*(v0-meanV)*(1-exp(-lmbda*T)))\n",
    "    a = c1-12.0*sqrt(abs(c2))\n",
    "    b = c1+12.0*sqrt(abs(c2))\n",
    "    x = log(float(S)/K)\n",
    "    k = arange(0,N)\n",
    "    if (otype == 'C'):\n",
    "       U = 2.0/(b-a)*(xi(k,a,b,0,b) - psi(k,a,b,0,b))\n",
    "    else:\n",
    "       U = 2.0/(b-a)*(-xi(k,a,b,a,0) + psi(k,a,b,a,0))   \n",
    "    unit = [1.0] * N\n",
    "    unit[0] = 0.5\n",
    "    ret = 0\n",
    "# Note that HestonCF is independent of the strike\n",
    "    HCF = HestonCF(k*pi/(b-a),T,r,sigma,lmbda,meanV,v0,rho)\n",
    "    for i in range(N):\n",
    "      ret += unit[i]*HCF[i]*exp(1j*float(k[i])*pi*(x-a)/(b-a))*U[i]\n",
    "    return K*exp(-r*T)*ret.real\n",
    "\n",
    "def HestonVega(S,K,T,r,sigma,lmbda,meanV,v0,rho, otype, N=256):\n",
    "    c1 = r*T+(1-exp(-lmbda*T))*(meanV-v0)/(2.0*lmbda)-0.5*meanV*T\n",
    "    c2 = 1.0/(8.0*lmbda**3)*(sigma*T*lmbda*exp(-lmbda*T)*(v0-meanV)*(8.0*lmbda*rho-4.0*sigma)+lmbda*rho*sigma*(1-exp(-lmbda*T))*(16.0*meanV-8.0*v0)+2.0*meanV*lmbda*T*(-4.0*lmbda*rho*sigma+sigma**2+4.0*lmbda**2)+sigma**2*((meanV-2.0*v0)*exp(-2.0*lmbda*T)+meanV*(6.0*exp(-lmbda*T)-7.0)+2.0*v0)+8.0*lmbda**2*(v0-meanV)*(1-exp(-lmbda*T)))\n",
    "    a = c1-12.0*sqrt(abs(c2))\n",
    "    b = c1+12.0*sqrt(abs(c2))\n",
    "    x = log(float(S)/K)\n",
    "    k = arange(0,N)\n",
    "    if (otype == 'C'):\n",
    "       U = 2.0/(b-a)*(xi(k,a,b,0,b) - psi(k,a,b,0,b))\n",
    "    else:\n",
    "       U = 2.0/(b-a)*(-xi(k,a,b,a,0) + psi(k,a,b,a,0))   \n",
    "    unit = [1.0] * N\n",
    "    unit[0] = 0.5\n",
    "    ret = 0\n",
    "# Note that HestonCF is independent of the strike\n",
    "    HCF = HestonCFdu0(k*pi/(b-a),T,r,sigma,lmbda,meanV,v0,rho)\n",
    "    for i in range(N):\n",
    "      ret += unit[i]*HCF[i]*exp(1j*float(k[i])*pi*(x-a)/(b-a))*U[i]\n",
    "    return K*exp(-r*T)*ret.real\n",
    "\n",
    "\n",
    "def HestonCF(u,T,r,sigma,lmbda,meanV,v0,rho):\n",
    "    a = lmbda*meanV\n",
    "    b = lmbda\n",
    "    d = sqrt((1j*rho*sigma*u-b)**2+(u**2+1j*u)*sigma**2)\n",
    "    g = (b-1j*rho*sigma*u-d)/(b-1j*rho*sigma*u+d)\n",
    "    ret = exp(1j*u*r*T)\n",
    "    ret = ret*exp((a/sigma**2)*((b - rho*1j*sigma*u - d)*T - 2.0*log((1-g*exp(-d*T))/(1-g))))\n",
    "    return ret*exp((v0/sigma**2)*(b - rho*1j*sigma*u - d)*(1-exp(-d*T))/(1-g*exp(-d*T)))\n",
    "\n",
    "\n",
    "# The Derivative of the Heston Characteristic Function w.r.t. to the v0 \n",
    "def HestonCFdu0(u,T,r,sigma,lmbda,meanV,v0,rho):\n",
    "\n",
    "    a = lmbda*meanV\n",
    "    b = lmbda\n",
    "    d = sqrt((1j*rho*sigma*u-b)**2+(u**2+1j*u)*sigma**2)\n",
    "    g = (b-1j*rho*sigma*u-d)/(b-1j*rho*sigma*u+d)\n",
    "    ret = exp(1j*u*r*T)\n",
    "    \n",
    "    ret = ret*exp((a/sigma**2)*((b - rho*1j*sigma*u - d)*T - 2.0*log((1.0-g*exp(-d*T))/(1.0-g))))\n",
    "    ret = ret*exp((v0/sigma**2)*(b - rho*1j*sigma*u - d)*(1.0-exp(-d*T))/(1.0-g*exp(-d*T)))\n",
    "    ret = ret *((1.0-exp(-d*T))/(1.0-g*exp(-d*T)))*(b-1j*rho*sigma*u-d)/(sigma**2)\n",
    "    return(ret)\n",
    "\n",
    "\n",
    "\n",
    "def xi(k,a,b,c,d):\n",
    "    ret = 1.0/(1+(k*pi/(b-a))**2)*(cos(k*pi*(d-a)/(b-a))*exp(d)-cos(k*pi*(c-a)/(b-a))*exp(c)+k*pi/(b-a)*sin(k*pi*(d-a)/(b-a))*exp(d)-k*pi/(b-a)*sin(k*pi*(c-a)/(b-a))*exp(c))\n",
    "    return ret\n",
    "\n",
    "def psi(k,a,b,c,d):\n",
    "    N = len(k)\n",
    "    idx = arange(1, N)\n",
    "    ret = array([0.0]*N)\n",
    "    ret[0] = d-c\n",
    "    ret[idx] =(sin(k[idx]*pi*(d-a)/(b-a))-sin(k[idx]*pi*(c-a)/(b-a)))*(b-a)/(k[idx]*pi)\n",
    "    return ret\n",
    "\n"
   ]
  },
  {
   "cell_type": "code",
   "execution_count": 3,
   "metadata": {},
   "outputs": [],
   "source": [
    "import matplotlib.pyplot as plt"
   ]
  },
  {
   "cell_type": "code",
   "execution_count": 4,
   "metadata": {},
   "outputs": [],
   "source": [
    "nInt = 256\n",
    "r0 = 0.0002\n",
    "\n",
    "#p0 = [5.76145232379, 0.393696857573, 0.99999999,-0.686387364593,0.685888435264]\n",
    "#print Error_Function(p0)\n",
    "\n",
    "S= 100\n",
    "K = 100\n",
    "T = 0.01\n",
    "r = r0\n",
    "sigma = 0.6\n",
    "lmbda = 0.1\n",
    "meanV = 0.1\n",
    "v0 = 0.1\n",
    "rho =-0.9\n",
    "V= HestonCOS(S,K,T,r,sigma,lmbda,meanV,v0,rho, 'C', N=nInt)\n",
    "\n",
    "vegas = []\n",
    "S_arr = np.arange(90,110,0.1)\n",
    "for S in S_arr:\n",
    "  vegas.append(HestonVega(S,K,T,r,sigma,lmbda,meanV,v0,rho, 'C', N=nInt));\n"
   ]
  },
  {
   "cell_type": "code",
   "execution_count": 5,
   "metadata": {},
   "outputs": [
    {
     "data": {
      "text/plain": [
       "Text(0,0.5,'vegas')"
      ]
     },
     "execution_count": 5,
     "metadata": {},
     "output_type": "execute_result"
    },
    {
     "data": {
      "image/png": "[encoded data removed]",
      "text/plain": [
       "<Figure size 432x288 with 1 Axes>"
      ]
     },
     "metadata": {},
     "output_type": "display_data"
    }
   ],
   "source": [
    "plt.plot(vegas)\n",
    "plt.xlabel('S')\n",
    "plt.ylabel('vegas')"
   ]
  },
  {
   "cell_type": "markdown",
   "metadata": {},
   "source": [
    "What if we just fit the regression to a smaller number of points"
   ]
  },
  {
   "cell_type": "code",
   "execution_count": 6,
   "metadata": {},
   "outputs": [],
   "source": [
    "idx = np.arange(1,len(S_arr),40)"
   ]
  },
  {
   "cell_type": "code",
   "execution_count": 7,
   "metadata": {},
   "outputs": [
    {
     "data": {
      "text/plain": [
       "(array([  90.1,   94.1,   98.1,  102.1,  106.1]),\n",
       " array([  3.06921759e-03,   7.22017269e-01,   5.28408471e+00,\n",
       "          5.05346261e+00,   1.32383761e+00]),\n",
       " array([  3.06921770e-03,   7.22017269e-01,   5.28408471e+00,\n",
       "          5.05346261e+00,   1.32383761e+00]))"
      ]
     },
     "execution_count": 7,
     "metadata": {},
     "output_type": "execute_result"
    }
   ],
   "source": [
    "rg = np.polyfit(S_arr[idx], np.array(vegas)[idx], 4)\n",
    "vegas_reg = np.polyval(rg, S_arr[idx])  # continuation values\n",
    "\n",
    "S_arr[idx], np.array(vegas)[idx], vegas_reg"
   ]
  },
  {
   "cell_type": "code",
   "execution_count": 8,
   "metadata": {
    "scrolled": true
   },
   "outputs": [
    {
     "data": {
      "text/plain": [
       "Text(0,0.5,'vegas')"
      ]
     },
     "execution_count": 8,
     "metadata": {},
     "output_type": "execute_result"
    },
    {
     "data": {
      "image/png": "[encoded data removed]",
      "text/plain": [
       "<Figure size 432x288 with 1 Axes>"
      ]
     },
     "metadata": {},
     "output_type": "display_data"
    }
   ],
   "source": [
    "plt.plot(vegas_reg)\n",
    "plt.xlabel('S')\n",
    "plt.ylabel('vegas')"
   ]
  },
  {
   "cell_type": "markdown",
   "metadata": {},
   "source": [
    "What if I fit polynomial regression"
   ]
  },
  {
   "cell_type": "code",
   "execution_count": 9,
   "metadata": {},
   "outputs": [
    {
     "data": {
      "text/plain": [
       "(array([  90.1,   94.1,   98.1,  102.1,  106.1]),\n",
       " array([  3.06921759e-03,   7.22017269e-01,   5.28408471e+00,\n",
       "          5.05346261e+00,   1.32383761e+00]))"
      ]
     },
     "execution_count": 9,
     "metadata": {},
     "output_type": "execute_result"
    }
   ],
   "source": [
    "x = S_arr[idx]\n",
    "y = np.array(vegas)[idx]\n",
    "p3=np.polyfit(x, y, 3)\n",
    "p3_test = np.polyval(np.polyfit(S_arr, np.array(vegas), 3), S_arr)\n",
    "x,y"
   ]
  },
  {
   "cell_type": "code",
   "execution_count": 10,
   "metadata": {},
   "outputs": [],
   "source": [
    "def p3_func(x):\n",
    "    ret = p3[0] * (x**3) + p3[1] * (x**2) + p3[2] * x + p3[3]\n",
    "    return ret"
   ]
  },
  {
   "cell_type": "code",
   "execution_count": 11,
   "metadata": {},
   "outputs": [],
   "source": [
    "poly_reg = []\n",
    "for S in S_arr:\n",
    "    poly_reg.append(p3_func(S))"
   ]
  },
  {
   "cell_type": "code",
   "execution_count": 60,
   "metadata": {},
   "outputs": [
    {
     "data": {
      "text/plain": [
       "(-3, 9)"
      ]
     },
     "execution_count": 60,
     "metadata": {},
     "output_type": "execute_result"
    },
    {
     "data": {
      "image/png": "[encoded data removed]",
      "text/plain": [
       "<Figure size 432x288 with 1 Axes>"
      ]
     },
     "metadata": {},
     "output_type": "display_data"
    }
   ],
   "source": [
    "plt.plot(p3_test)\n",
    "plt.plot(vegas)\n",
    "plt.xlabel('S')\n",
    "plt.ylabel('vegas')\n",
    "plt.ylim(-3,9)\n"
   ]
  },
  {
   "cell_type": "markdown",
   "metadata": {},
   "source": [
    "Apply GPR with training point sets"
   ]
  },
  {
   "cell_type": "code",
   "execution_count": 41,
   "metadata": {},
   "outputs": [],
   "source": [
    "# Initiate dataset\n",
    "i = np.arange(200)[0:200:2]\n",
    "j = np.arange(200)[1:200:2]\n",
    "x_train = S_arr[i].reshape(100,1)\n",
    "y_train = np.array(vegas)[i]\n",
    "x_test = S_arr[j].reshape(100,1)\n",
    "y_test = np.array(vegas)[j]\n",
    "\n"
   ]
  },
  {
   "cell_type": "code",
   "execution_count": null,
   "metadata": {},
   "outputs": [],
   "source": []
  },
  {
   "cell_type": "code",
   "execution_count": 16,
   "metadata": {},
   "outputs": [],
   "source": [
    "#GPR WITH EDWARD\n",
    "import os\n",
    "os.environ['TF_C_API_GRAPH_CONSTRUCTION']='0'\n",
    "import tensorflow as tf\n",
    "import edward as ed\n",
    "from edward.models import Normal"
   ]
  },
  {
   "cell_type": "code",
   "execution_count": 17,
   "metadata": {},
   "outputs": [],
   "source": [
    "n = 100\n",
    "d = 1\n",
    "qw = Normal(loc=tf.get_variable(\"qw/loc\", [d]),\n",
    "            scale=tf.nn.softplus(tf.get_variable(\"qw/scale\", [d])))\n",
    "qb = Normal(loc=tf.get_variable(\"qb/loc\", [1]),\n",
    "            scale=tf.nn.softplus(tf.get_variable(\"qb/scale\", [1])))"
   ]
  },
  {
   "cell_type": "code",
   "execution_count": 32,
   "metadata": {},
   "outputs": [],
   "source": [
    "X = tf.placeholder(tf.float32, [n, d])\n",
    "w = Normal(loc=tf.zeros(d), scale=tf.ones(d))\n",
    "b = Normal(loc=tf.zeros(1.), scale=tf.ones(1.))\n",
    "y = Normal(loc=ed.dot(X, w) + b, scale=tf.ones(n))"
   ]
  },
  {
   "cell_type": "code",
   "execution_count": 33,
   "metadata": {},
   "outputs": [
    {
     "name": "stdout",
     "output_type": "stream",
     "text": [
      "4000/4000 [100%] ██████████████████████████████ Elapsed: 11s | Loss: 349.589\n"
     ]
    }
   ],
   "source": [
    "inference = ed.KLqp({w : qw, b: qb}, data={X: x_train, y: y_train})\n",
    "inference.run(n_samples=10, n_iter=4000)"
   ]
  },
  {
   "cell_type": "code",
   "execution_count": 57,
   "metadata": {},
   "outputs": [],
   "source": [
    "post_q = qw.mean().eval() # if this is the right way of finding w, then which is which? \n",
    "post_b = qb.mean().eval() "
   ]
  },
  {
   "cell_type": "code",
   "execution_count": null,
   "metadata": {
    "scrolled": false
   },
   "outputs": [],
   "source": []
  },
  {
   "cell_type": "code",
   "execution_count": 42,
   "metadata": {},
   "outputs": [
    {
     "name": "stdout",
     "output_type": "stream",
     "text": [
      "Mean squared error on test data:\n",
      "4.88991\n",
      "Mean absolute error on test data:\n",
      "1.97157\n"
     ]
    }
   ],
   "source": [
    "#criticism\n",
    "y_post = Normal(loc=ed.dot(X, qw) + qb, scale=tf.ones(n))\n",
    "\n",
    "print(\"Mean squared error on test data:\")\n",
    "print(ed.evaluate('mean_squared_error', data={X: x_test, y_post: y_test}))\n",
    "\n",
    "print(\"Mean absolute error on test data:\")\n",
    "print(ed.evaluate('mean_absolute_error', data={X: x_test, y_post: y_test}))"
   ]
  },
  {
   "cell_type": "code",
   "execution_count": 51,
   "metadata": {},
   "outputs": [],
   "source": [
    "def visualise(x_data, y_data, w, b, n_samples=10):\n",
    "  w_samples = w.sample(n_samples)[:, 0].eval()\n",
    "  b_samples = b.sample(n_samples).eval()\n",
    "  #plt.scatter(x_data, y_data)\n",
    "  inputs = np.linspace(-10,10, num=400)\n",
    "  for ns in range(n_samples):\n",
    "    output = inputs * w_samples[ns] + b_samples[ns]\n",
    "    plt.plot(inputs, output)"
   ]
  },
  {
   "cell_type": "code",
   "execution_count": 52,
   "metadata": {},
   "outputs": [
    {
     "data": {
      "image/png": "[encoded data removed]",
      "text/plain": [
       "<Figure size 432x288 with 1 Axes>"
      ]
     },
     "metadata": {},
     "output_type": "display_data"
    }
   ],
   "source": [
    "visualise(x_train, y_train, w, b)"
   ]
  },
  {
   "cell_type": "code",
   "execution_count": 53,
   "metadata": {},
   "outputs": [
    {
     "data": {
      "image/png": "[encoded data removed]",
      "text/plain": [
       "<Figure size 432x288 with 1 Axes>"
      ]
     },
     "metadata": {},
     "output_type": "display_data"
    }
   ],
   "source": [
    "visualise(x_test, y_test, qw, qb)"
   ]
  },
  {
   "cell_type": "code",
   "execution_count": null,
   "metadata": {},
   "outputs": [],
   "source": []
  },
  {
   "cell_type": "code",
   "execution_count": null,
   "metadata": {},
   "outputs": [],
   "source": []
  },
  {
   "cell_type": "code",
   "execution_count": null,
   "metadata": {},
   "outputs": [],
   "source": []
  },
  {
   "cell_type": "code",
   "execution_count": null,
   "metadata": {},
   "outputs": [],
   "source": []
  },
  {
   "cell_type": "code",
   "execution_count": null,
   "metadata": {},
   "outputs": [],
   "source": []
  },
  {
   "cell_type": "code",
   "execution_count": 38,
   "metadata": {},
   "outputs": [],
   "source": []
  },
  {
   "cell_type": "code",
   "execution_count": 39,
   "metadata": {},
   "outputs": [],
   "source": []
  },
  {
   "cell_type": "code",
   "execution_count": 94,
   "metadata": {},
   "outputs": [],
   "source": []
  },
  {
   "cell_type": "code",
   "execution_count": 104,
   "metadata": {},
   "outputs": [],
   "source": []
  },
  {
   "cell_type": "code",
   "execution_count": null,
   "metadata": {},
   "outputs": [],
   "source": []
  },
  {
   "cell_type": "code",
   "execution_count": null,
   "metadata": {},
   "outputs": [],
   "source": []
  },
  {
   "cell_type": "code",
   "execution_count": null,
   "metadata": {},
   "outputs": [],
   "source": []
  },
  {
   "cell_type": "code",
   "execution_count": null,
   "metadata": {},
   "outputs": [],
   "source": [
    "\n"
   ]
  },
  {
   "cell_type": "code",
   "execution_count": null,
   "metadata": {},
   "outputs": [],
   "source": []
  }
 ],
 "metadata": {
  "kernelspec": {
   "display_name": "Python 2",
   "language": "python",
   "name": "python2"
  },
  "language_info": {
   "codemirror_mode": {
    "name": "ipython",
    "version": 2
   },
   "file_extension": ".py",
   "mimetype": "text/x-python",
   "name": "python",
   "nbconvert_exporter": "python",
   "pygments_lexer": "ipython2",
   "version": "2.7.15"
  }
 },
 "nbformat": 4,
 "nbformat_minor": 1
}
